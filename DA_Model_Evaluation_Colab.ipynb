{
  "cells": [
    {
      "cell_type": "code",
      "execution_count": null,
      "id": "q3Z8QTXkoZEP",
      "metadata": {
        "id": "q3Z8QTXkoZEP"
      },
      "outputs": [],
      "source": [
        "#from google.colab import drive\n",
        "#drive.mount('/content/drive')"
      ]
    },
    {
      "cell_type": "code",
      "execution_count": null,
      "id": "pJ698_gkFe9H",
      "metadata": {
        "id": "pJ698_gkFe9H"
      },
      "outputs": [],
      "source": [
        "# To modify based on the src path in the DRIVE\n",
        "#!mkdir -p src\n",
        "#!cp /content/drive/MyDrive/MACHINE_LEARNING/progetto-daml/src/preprocessing.py src/\n",
        "#!cp /content/drive/MyDrive/MACHINE_LEARNING/progetto-daml/src/plotting.py src/plotting.py"
      ]
    },
    {
      "cell_type": "code",
      "execution_count": null,
      "id": "47d454c1",
      "metadata": {
        "id": "47d454c1"
      },
      "outputs": [],
      "source": [
        "# Import Required Libraries\n",
        "import numpy as np\n",
        "import random\n",
        "import matplotlib.pyplot as plt\n",
        "import seaborn as sns\n",
        "import tensorflow as tf\n",
        "import tensorflow_datasets as tfds\n",
        "from tensorflow import keras\n",
        "import sys\n",
        "sys.path.append('/content/src')\n",
        "import os\n",
        "from sklearn.metrics import accuracy_score, precision_score, recall_score, f1_score, confusion_matrix, roc_curve, roc_auc_score, classification_report\n"
      ]
    },
    {
      "cell_type": "markdown",
      "id": "9983b827",
      "metadata": {
        "id": "9983b827"
      },
      "source": [
        "# Model Evaluation on PlantVillage Dataset\n",
        "\n",
        "This notebook evaluates the trained model using the test set. It includes metrics, confusion matrix, ROC curves, and a classification report."
      ]
    },
    {
      "cell_type": "code",
      "execution_count": null,
      "id": "bbfcbc46",
      "metadata": {
        "id": "bbfcbc46"
      },
      "outputs": [],
      "source": [
        "# setup\n",
        "\n",
        "# Choose number of samples per class:\n",
        "#'max': # of samples in largest class\n",
        "#'mean': mean # of samples\n",
        "#'t': 1000 samples\n",
        "#'min': # of samples in the smallest class\n",
        "\n",
        "target_type = input(\"Choose the number of samples per class('max', 'mean', 't', 'min'): \").strip().lower()\n",
        "if target_type not in ['max', 'mean', 't', 'min']:\n",
        "    raise ValueError(\"Invalid choice! Please enter 'max', 'mean', 't', or 'min'.\")\n",
        "\n",
        "print(f\"You chose: {target_type}\")\n",
        "\n",
        "if target_type == 'max':\n",
        "  target = 4399\n",
        "\n",
        "elif target_type == 'mean':\n",
        "  target = 1143\n",
        "\n",
        "elif target_type == 't':\n",
        "  target = 1000\n",
        "\n",
        "elif target_type == 'min':\n",
        "  target = 122\n",
        "samplesize = str(target)\n",
        "\n",
        "# Choose augmentation type:\n",
        "#'comb': geometric and color augmentation\n",
        "#'geo': geometric augmentation\n",
        "#'color': color augmentation\n",
        "\n",
        "augmentation_type = input(\"Choose augmentation type ('comb', 'geo', 'color'): \").strip().lower()\n",
        "if augmentation_type not in ['comb', 'geo', 'color']:\n",
        "    raise ValueError(\"Invalid choice! Please enter 'none', 'geo', or 'color'.\")\n",
        "\n",
        "print(f\"You chose: {augmentation_type}\")\n",
        "\n",
        "\n",
        "COMMON_FILENAME = augmentation_type+'_aug_'+samplesize\n",
        "\n",
        "WEIGHTS_DIR = '/content/weights'  # Directory to save model weights\n",
        "CONFUSION_DIR = '/content/conf-matrix'  # Directory to save confusion matrices\n",
        "ROC_AUC_DIR = '/content/roc-curves'  # Directory to save ROC AUC plots\n",
        "REPORTS_DIR = '/content/reports'  # Directory to save reports\n",
        "os.makedirs(WEIGHTS_DIR, exist_ok=True)\n",
        "os.makedirs(CONFUSION_DIR, exist_ok=True)\n",
        "os.makedirs(ROC_AUC_DIR, exist_ok=True)\n",
        "os.makedirs(REPORTS_DIR, exist_ok=True)\n",
        "WEIGHTS_FILE = f'{WEIGHTS_DIR}/{COMMON_FILENAME}.h5'  # Path to save the best model weights\n",
        "CONFUSION_FILE = f'{CONFUSION_DIR}/confusion_matrix_{COMMON_FILENAME}.png'  # Path to save confusion matrix\n",
        "ROC_AUC_FILE = f'{ROC_AUC_DIR}/roc_curve_{COMMON_FILENAME}.png'  # Path to save ROC AUC plot\n",
        "REPORT_TEXT_FILE = f'{REPORTS_DIR}/report_{COMMON_FILENAME}.txt'  # Path to save classification report\n",
        "REPORT_HEATMAP_FILE = f'{REPORTS_DIR}/report_heatmap_{COMMON_FILENAME}.png'  # Path to save heatmap of classification report\n",
        "\n",
        "IMG_SIZE = (128, 128)  # Image size for resizing\n",
        "BATCH_SIZE = 64  # Batch size dataset loading\n",
        "\n",
        "# Copying the weights from the training of interest\n",
        "weights_loc = '/content/weights/'+ augmentation_type +'_aug_'+ samplesize+'.h5'\n",
        "print(weights_loc)\n",
        "!cp \"$weights_loc\" /content/weights/  #expect 'cp: 'file #1' and 'file #2' are the same file'"
      ]
    },
    {
      "cell_type": "code",
      "execution_count": null,
      "id": "f78d5ba3",
      "metadata": {
        "id": "f78d5ba3"
      },
      "outputs": [],
      "source": [
        "# Seed setting for reproducibility\n",
        "random.seed(42)\n",
        "np.random.seed(42)\n",
        "tf.random.set_seed(42)\n",
        "tf.keras.utils.set_random_seed(42)"
      ]
    },
    {
      "cell_type": "code",
      "execution_count": null,
      "id": "df4a980f",
      "metadata": {
        "id": "df4a980f"
      },
      "outputs": [],
      "source": [
        "from preprocessing import preprocess\n",
        "\n",
        "model = keras.models.load_model(WEIGHTS_FILE, compile=False)\n",
        "\n",
        "ds_test, ds_info = tfds.load(\n",
        "    'plant_village',\n",
        "    split='train[95%:]',\n",
        "    shuffle_files=False,\n",
        "    as_supervised=True,  # returns (image, label) pairs\n",
        "    with_info=True\n",
        ")\n",
        "\n",
        "test_ds = ds_test.map(lambda image, label: preprocess(image, label, ds_info, IMG_SIZE)).batch(BATCH_SIZE).prefetch(tf.data.AUTOTUNE)\n",
        "class_names = ds_info.features['label'].names\n",
        "print(f\"Number of test images: {ds_info.splits['train[95%:]'].num_examples}\")\n"
      ]
    },
    {
      "cell_type": "code",
      "execution_count": null,
      "id": "8aebc1a4",
      "metadata": {
        "id": "8aebc1a4"
      },
      "outputs": [],
      "source": [
        "# Generate Predictions on Test Set\n",
        "y_true = []\n",
        "y_pred = []\n",
        "y_score = []\n",
        "for images, labels in test_ds:\n",
        "    y_true.extend(np.argmax(labels.numpy(), axis=1))\n",
        "    preds = model.predict(images)\n",
        "    y_pred.extend(np.argmax(preds, axis=1))\n",
        "    y_score.append(preds)\n",
        "y_score = np.concatenate(y_score)\n"
      ]
    },
    {
      "cell_type": "code",
      "execution_count": null,
      "id": "cb1b801e",
      "metadata": {
        "id": "cb1b801e"
      },
      "outputs": [],
      "source": [
        "# Calculate Evaluation Metrics (Accuracy, Precision, Recall, F1)\n",
        "accuracy = accuracy_score(y_true, y_pred)\n",
        "precision = precision_score(y_true, y_pred, average='weighted')\n",
        "recall = recall_score(y_true, y_pred, average='weighted')\n",
        "f1 = f1_score(y_true, y_pred, average='weighted')\n",
        "print(f\"Accuracy: {accuracy:.6f}\")\n",
        "print(f\"Precision: {precision:.6f}\")\n",
        "print(f\"Recall: {recall:.6f}\")\n",
        "print(f\"F1-score: {f1:.6f}\")\n"
      ]
    },
    {
      "cell_type": "code",
      "execution_count": null,
      "id": "db6cf9aa",
      "metadata": {
        "id": "db6cf9aa"
      },
      "outputs": [],
      "source": [
        "import matplotlib.pyplot as plt\n",
        "from plotting import plot_confusion_matrix\n",
        "\n",
        "plt.figure()  # Set a larger figure size for better readability\n",
        "plot_confusion_matrix(\n",
        "    np.array(y_true),\n",
        "    np.array(y_pred),\n",
        "    classes=class_names,\n",
        "    normalize=True,\n",
        "    title=\"Confusion Matrix (Test Set)\",\n",
        "    cmap=\"plasma\"\n",
        ")\n",
        "plt.tight_layout()  # Ensure labels and ticks are not cut off\n",
        "plt.savefig(CONFUSION_FILE, dpi=400, bbox_inches='tight')\n",
        "plt.show()\n"
      ]
    },
    {
      "cell_type": "code",
      "execution_count": null,
      "id": "78653ade",
      "metadata": {
        "id": "78653ade"
      },
      "outputs": [],
      "source": [
        "# Plot ROC Curves for Each Class\n",
        "n_classes = y_score.shape[1]\n",
        "fpr = dict()\n",
        "tpr = dict()\n",
        "roc_auc = dict()\n",
        "for i in range(n_classes):\n",
        "    fpr[i], tpr[i], _ = roc_curve(np.eye(n_classes)[y_true][:, i], y_score[:, i])\n",
        "    roc_auc[i] = roc_auc_score(np.eye(n_classes)[y_true][:, i], y_score[:, i])\n",
        "plt.figure(figsize=(12, 12))\n",
        "auc_and_idx = sorted([(roc_auc[i], i) for i in range(n_classes)], reverse=True)\n",
        "for auc, i in auc_and_idx:\n",
        "    plt.plot(fpr[i], tpr[i], label=f'{class_names[i]} (AUC = {auc:.4f})')\n",
        "plt.plot([0, 1], [0, 1], 'r--', lw=2, label='Random Classifier (AUC = 0.5)')\n",
        "plt.xlabel('False Positive Rate')\n",
        "plt.ylabel('True Positive Rate')\n",
        "plt.title('ROC Curve - One vs Rest (Test Set)')\n",
        "plt.legend(fontsize='small', bbox_to_anchor=(1.05, 1), loc='best')\n",
        "plt.savefig(ROC_AUC_FILE, dpi=400, bbox_inches='tight')\n",
        "plt.show()\n"
      ]
    },
    {
      "cell_type": "code",
      "execution_count": null,
      "id": "d1ca07de",
      "metadata": {
        "id": "d1ca07de"
      },
      "outputs": [],
      "source": [
        "# Display Classification Report\n",
        "report = classification_report(y_true, y_pred, target_names=class_names)\n",
        "print(report)\n",
        "\n",
        "# Save the classification report to a text file\n",
        "with open(REPORT_TEXT_FILE, 'w') as f:\n",
        "    f.write(report)\n"
      ]
    },
    {
      "cell_type": "code",
      "execution_count": null,
      "id": "70ad0817",
      "metadata": {
        "id": "70ad0817"
      },
      "outputs": [],
      "source": [
        "# Create a sns heatmap of the classification report\n",
        "import seaborn as sns\n",
        "import pandas as pd\n",
        "report_df = pd.DataFrame.from_dict(\n",
        "    classification_report(y_true, y_pred, target_names=class_names, output_dict=True)\n",
        ").T\n",
        "\n",
        "fig, ax = plt.subplots(figsize=(12, 8))\n",
        "hm = sns.heatmap(\n",
        "    report_df.iloc[:-3, :-1],\n",
        "    annot=True,\n",
        "    fmt='.2f',\n",
        "    cmap='viridis',\n",
        "    cbar=False,\n",
        "    linewidths=0.5,\n",
        "    ax=ax\n",
        ")\n",
        "cbar = fig.colorbar(hm.collections[0], ax=ax)\n",
        "cbar.set_label('Score')\n",
        "\n",
        "plt.title('Classification Report Heatmap')\n",
        "plt.xlabel('Metrics')\n",
        "plt.ylabel('Classes')\n",
        "plt.savefig(REPORT_HEATMAP_FILE, dpi=400, bbox_inches='tight')\n",
        "plt.show()\n"
      ]
    },
    {
      "cell_type": "code",
      "execution_count": null,
      "id": "39c26fd2",
      "metadata": {
        "id": "39c26fd2"
      },
      "outputs": [],
      "source": []
    }
  ],
  "metadata": {
    "accelerator": "GPU",
    "colab": {
      "gpuType": "T4",
      "provenance": []
    },
    "kernelspec": {
      "display_name": "Python 3 (ipykernel)",
      "language": "python",
      "name": "python3"
    },
    "language_info": {
      "codemirror_mode": {
        "name": "ipython",
        "version": 3
      },
      "file_extension": ".py",
      "mimetype": "text/x-python",
      "name": "python",
      "nbconvert_exporter": "python",
      "pygments_lexer": "ipython3",
      "version": "3.13.5"
    }
  },
  "nbformat": 4,
  "nbformat_minor": 5
}