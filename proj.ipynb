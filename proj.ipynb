{
 "cells": [
  {
   "cell_type": "markdown",
   "id": "eb560a95",
   "metadata": {},
   "source": [
    "# Progetto d'esame di Data Analysis in Experimental Physics with Machine Learning\n",
    "\n",
    "Gruppo composto dagli studenti Luca Attinà, Sharis Feriotto e Matteo Marchisio Caprioglio"
   ]
  },
  {
   "cell_type": "markdown",
   "id": "7bf32c52",
   "metadata": {},
   "source": [
    "Dataset ipotesi: https://www.kaggle.com/datasets/vipoooool/new-plant-diseases-dataset"
   ]
  },
  {
   "cell_type": "code",
   "execution_count": 1,
   "id": "301fcd60",
   "metadata": {},
   "outputs": [
    {
     "name": "stdout",
     "output_type": "stream",
     "text": [
      "Channels:\n",
      " - conda-forge\n",
      " - defaults\n",
      "Platform: osx-arm64\n",
      "Collecting package metadata (repodata.json): done\n",
      "Solving environment: done\n",
      "\n",
      "## Package Plan ##\n",
      "\n",
      "  environment location: /Users/2mc/miniconda3/envs/daml\n",
      "\n",
      "  added / updated specs:\n",
      "    - kagglehub\n",
      "\n",
      "\n",
      "The following packages will be downloaded:\n",
      "\n",
      "    package                    |            build\n",
      "    ---------------------------|-----------------\n",
      "    ca-certificates-2025.7.9   |       hbd8a1cb_0         149 KB  conda-forge\n",
      "    ------------------------------------------------------------\n",
      "                                           Total:         149 KB\n",
      "\n",
      "The following packages will be UPDATED:\n",
      "\n",
      "  ca-certificates                      2025.6.15-hbd8a1cb_0 --> 2025.7.9-hbd8a1cb_0 \n",
      "\n",
      "\n",
      "\n",
      "Downloading and Extracting Packages:\n",
      "                                                                                \n",
      "Preparing transaction: done\n",
      "Verifying transaction: done\n",
      "Executing transaction: done\n",
      "\n",
      "Note: you may need to restart the kernel to use updated packages.\n"
     ]
    }
   ],
   "source": [
    "%conda install -c conda-forge kagglehub\n"
   ]
  },
  {
   "cell_type": "code",
   "execution_count": 2,
   "id": "ca9e047b",
   "metadata": {},
   "outputs": [
    {
     "name": "stdout",
     "output_type": "stream",
     "text": [
      "Warning: Looks like you're using an outdated `kagglehub` version (installed: 0.3.8), please consider upgrading to the latest version (0.3.12).\n",
      "Path to dataset files: /Users/2mc/.cache/kagglehub/datasets/vipoooool/new-plant-diseases-dataset/versions/2\n"
     ]
    }
   ],
   "source": [
    "# Prova import dataset\n",
    "import kagglehub\n",
    "\n",
    "# Download latest version\n",
    "path = kagglehub.dataset_download(\"vipoooool/new-plant-diseases-dataset\")\n",
    "\n",
    "print(\"Path to dataset files:\", path)\n"
   ]
  },
  {
   "cell_type": "code",
   "execution_count": null,
   "id": "235d6cf6",
   "metadata": {},
   "outputs": [],
   "source": [
    "train_path = path + \"/New Plant Diseases Dataset(Augmented)/New Plant Diseases Dataset(Augmented)/train\"\n",
    "val_path = path + \"/New Plant Diseases Dataset(Augmented)/New Plant Diseases Dataset(Augmented)/valid\"\n",
    "test_path = path + \"/test\"\n"
   ]
  },
  {
   "cell_type": "code",
   "execution_count": null,
   "id": "d805808c",
   "metadata": {},
   "outputs": [
    {
     "data": {
      "text/plain": [
       "'/Users/2mc/.cache/kagglehub/datasets/vipoooool/new-plant-diseases-dataset/versions/2/New Plant Diseases Dataset(Augmented)/New Plant Diseases Dataset(Augmented)/train'"
      ]
     },
     "execution_count": 20,
     "metadata": {},
     "output_type": "execute_result"
    }
   ],
   "source": [
    "train_path\n"
   ]
  },
  {
   "cell_type": "code",
   "execution_count": null,
   "id": "f366ab9e",
   "metadata": {},
   "outputs": [
    {
     "name": "stdout",
     "output_type": "stream",
     "text": [
      "\u001b[34mApple___Apple_scab\u001b[m\u001b[m/\n",
      "\u001b[34mApple___Black_rot\u001b[m\u001b[m/\n",
      "\u001b[34mApple___Cedar_apple_rust\u001b[m\u001b[m/\n",
      "\u001b[34mApple___healthy\u001b[m\u001b[m/\n",
      "\u001b[34mBlueberry___healthy\u001b[m\u001b[m/\n",
      "\u001b[34mCherry_(including_sour)___healthy\u001b[m\u001b[m/\n",
      "\u001b[34mCherry_(including_sour)___Powdery_mildew\u001b[m\u001b[m/\n",
      "\u001b[34mCorn_(maize)___Cercospora_leaf_spot Gray_leaf_spot\u001b[m\u001b[m/\n",
      "\u001b[34mCorn_(maize)___Common_rust_\u001b[m\u001b[m/\n",
      "\u001b[34mCorn_(maize)___healthy\u001b[m\u001b[m/\n",
      "\u001b[34mCorn_(maize)___Northern_Leaf_Blight\u001b[m\u001b[m/\n",
      "\u001b[34mGrape___Black_rot\u001b[m\u001b[m/\n",
      "\u001b[34mGrape___Esca_(Black_Measles)\u001b[m\u001b[m/\n",
      "\u001b[34mGrape___healthy\u001b[m\u001b[m/\n",
      "\u001b[34mGrape___Leaf_blight_(Isariopsis_Leaf_Spot)\u001b[m\u001b[m/\n",
      "\u001b[34mOrange___Haunglongbing_(Citrus_greening)\u001b[m\u001b[m/\n",
      "\u001b[34mPeach___Bacterial_spot\u001b[m\u001b[m/\n",
      "\u001b[34mPeach___healthy\u001b[m\u001b[m/\n",
      "\u001b[34mPepper,_bell___Bacterial_spot\u001b[m\u001b[m/\n",
      "\u001b[34mPepper,_bell___healthy\u001b[m\u001b[m/\n",
      "\u001b[34mPotato___Early_blight\u001b[m\u001b[m/\n",
      "\u001b[34mPotato___healthy\u001b[m\u001b[m/\n",
      "\u001b[34mPotato___Late_blight\u001b[m\u001b[m/\n",
      "\u001b[34mRaspberry___healthy\u001b[m\u001b[m/\n",
      "\u001b[34mSoybean___healthy\u001b[m\u001b[m/\n",
      "\u001b[34mSquash___Powdery_mildew\u001b[m\u001b[m/\n",
      "\u001b[34mStrawberry___healthy\u001b[m\u001b[m/\n",
      "\u001b[34mStrawberry___Leaf_scorch\u001b[m\u001b[m/\n",
      "\u001b[34mTomato___Bacterial_spot\u001b[m\u001b[m/\n",
      "\u001b[34mTomato___Early_blight\u001b[m\u001b[m/\n",
      "\u001b[34mTomato___healthy\u001b[m\u001b[m/\n",
      "\u001b[34mTomato___Late_blight\u001b[m\u001b[m/\n",
      "\u001b[34mTomato___Leaf_Mold\u001b[m\u001b[m/\n",
      "\u001b[34mTomato___Septoria_leaf_spot\u001b[m\u001b[m/\n",
      "\u001b[34mTomato___Spider_mites Two-spotted_spider_mite\u001b[m\u001b[m/\n",
      "\u001b[34mTomato___Target_Spot\u001b[m\u001b[m/\n",
      "\u001b[34mTomato___Tomato_mosaic_virus\u001b[m\u001b[m/\n",
      "\u001b[34mTomato___Tomato_Yellow_Leaf_Curl_Virus\u001b[m\u001b[m/\n",
      "\u001b[34mApple___Apple_scab\u001b[m\u001b[m/\n",
      "\u001b[34mApple___Black_rot\u001b[m\u001b[m/\n",
      "\u001b[34mApple___Cedar_apple_rust\u001b[m\u001b[m/\n",
      "\u001b[34mApple___healthy\u001b[m\u001b[m/\n",
      "\u001b[34mBlueberry___healthy\u001b[m\u001b[m/\n",
      "\u001b[34mCherry_(including_sour)___healthy\u001b[m\u001b[m/\n",
      "\u001b[34mCherry_(including_sour)___Powdery_mildew\u001b[m\u001b[m/\n",
      "\u001b[34mCorn_(maize)___Cercospora_leaf_spot Gray_leaf_spot\u001b[m\u001b[m/\n",
      "\u001b[34mCorn_(maize)___Common_rust_\u001b[m\u001b[m/\n",
      "\u001b[34mCorn_(maize)___healthy\u001b[m\u001b[m/\n",
      "\u001b[34mCorn_(maize)___Northern_Leaf_Blight\u001b[m\u001b[m/\n",
      "\u001b[34mGrape___Black_rot\u001b[m\u001b[m/\n",
      "\u001b[34mGrape___Esca_(Black_Measles)\u001b[m\u001b[m/\n",
      "\u001b[34mGrape___healthy\u001b[m\u001b[m/\n",
      "\u001b[34mGrape___Leaf_blight_(Isariopsis_Leaf_Spot)\u001b[m\u001b[m/\n",
      "\u001b[34mOrange___Haunglongbing_(Citrus_greening)\u001b[m\u001b[m/\n",
      "\u001b[34mPeach___Bacterial_spot\u001b[m\u001b[m/\n",
      "\u001b[34mPeach___healthy\u001b[m\u001b[m/\n",
      "\u001b[34mPepper,_bell___Bacterial_spot\u001b[m\u001b[m/\n",
      "\u001b[34mPepper,_bell___healthy\u001b[m\u001b[m/\n",
      "\u001b[34mPotato___Early_blight\u001b[m\u001b[m/\n",
      "\u001b[34mPotato___healthy\u001b[m\u001b[m/\n",
      "\u001b[34mPotato___Late_blight\u001b[m\u001b[m/\n",
      "\u001b[34mRaspberry___healthy\u001b[m\u001b[m/\n",
      "\u001b[34mSoybean___healthy\u001b[m\u001b[m/\n",
      "\u001b[34mSquash___Powdery_mildew\u001b[m\u001b[m/\n",
      "\u001b[34mStrawberry___healthy\u001b[m\u001b[m/\n",
      "\u001b[34mStrawberry___Leaf_scorch\u001b[m\u001b[m/\n",
      "\u001b[34mTomato___Bacterial_spot\u001b[m\u001b[m/\n",
      "\u001b[34mTomato___Early_blight\u001b[m\u001b[m/\n",
      "\u001b[34mTomato___healthy\u001b[m\u001b[m/\n",
      "\u001b[34mTomato___Late_blight\u001b[m\u001b[m/\n",
      "\u001b[34mTomato___Leaf_Mold\u001b[m\u001b[m/\n",
      "\u001b[34mTomato___Septoria_leaf_spot\u001b[m\u001b[m/\n",
      "\u001b[34mTomato___Spider_mites Two-spotted_spider_mite\u001b[m\u001b[m/\n",
      "\u001b[34mTomato___Target_Spot\u001b[m\u001b[m/\n",
      "\u001b[34mTomato___Tomato_mosaic_virus\u001b[m\u001b[m/\n",
      "\u001b[34mTomato___Tomato_Yellow_Leaf_Curl_Virus\u001b[m\u001b[m/\n"
     ]
    }
   ],
   "source": [
    "%ls \"{train_path}\"\n",
    "%ls \"{val_path}\"\n"
   ]
  },
  {
   "cell_type": "code",
   "execution_count": null,
   "id": "1337f65a",
   "metadata": {},
   "outputs": [],
   "source": [
    "import tensorflow as tf\n"
   ]
  },
  {
   "cell_type": "code",
   "execution_count": null,
   "id": "ec33ccda",
   "metadata": {},
   "outputs": [
    {
     "name": "stdout",
     "output_type": "stream",
     "text": [
      "Found 70295 files belonging to 38 classes.\n",
      "Found 17572 files belonging to 38 classes.\n",
      "Found 33 files belonging to 1 classes.\n"
     ]
    },
    {
     "data": {
      "text/plain": [
       "<_PrefetchDataset element_spec=(TensorSpec(shape=(None, 256, 256, 3), dtype=tf.float32, name=None), TensorSpec(shape=(None, 1), dtype=tf.float32, name=None))>"
      ]
     },
     "execution_count": 40,
     "metadata": {},
     "output_type": "execute_result"
    }
   ],
   "source": [
    "img_size = (256, 256)\n",
    "batch_size = 32\n",
    "\n",
    "train_ds = tf.keras.utils.image_dataset_from_directory(\n",
    "    train_path,\n",
    "    image_size=img_size,\n",
    "    batch_size=batch_size,\n",
    "    label_mode='categorical'\n",
    ")\n",
    "\n",
    "val_ds = tf.keras.utils.image_dataset_from_directory(\n",
    "    val_path,\n",
    "    image_size=img_size,\n",
    "    batch_size=batch_size,\n",
    "    label_mode='categorical'\n",
    ")\n",
    "\n",
    "test_ds = tf.keras.utils.image_dataset_from_directory(\n",
    "    test_path,\n",
    "    image_size=img_size,\n",
    "    batch_size=batch_size,\n",
    "    label_mode='categorical'\n",
    ")\n",
    "\n",
    "test_ds\n"
   ]
  },
  {
   "cell_type": "code",
   "execution_count": null,
   "id": "98514b51",
   "metadata": {},
   "outputs": [],
   "source": []
  }
 ],
 "metadata": {
  "kernelspec": {
   "display_name": "daml",
   "language": "python",
   "name": "python3"
  },
  "language_info": {
   "codemirror_mode": {
    "name": "ipython",
    "version": 3
   },
   "file_extension": ".py",
   "mimetype": "text/x-python",
   "name": "python",
   "nbconvert_exporter": "python",
   "pygments_lexer": "ipython3",
   "version": "3.10.17"
  }
 },
 "nbformat": 4,
 "nbformat_minor": 5
}
