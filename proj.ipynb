{
 "cells": [
  {
   "cell_type": "markdown",
   "id": "eb560a95",
   "metadata": {},
   "source": [
    "# Progetto d'esame di Data Analysis in Experimental Physics with Machine Learning\n",
    "\n",
    "Gruppo composto dagli studenti Luca Attinà, Sharis Feriotto e Matteo Marchisio Caprioglio"
   ]
  },
  {
   "cell_type": "markdown",
   "id": "7bf32c52",
   "metadata": {},
   "source": [
    "Dataset ipotesi: https://www.kaggle.com/datasets/vipoooool/new-plant-diseases-dataset"
   ]
  },
  {
   "cell_type": "code",
   "execution_count": 1,
   "id": "301fcd60",
   "metadata": {},
   "outputs": [
    {
     "name": "stdout",
     "output_type": "stream",
     "text": [
      "Jupyter detected...\n",
      "Channels:\n",
      " - conda-forge\n",
      " - defaults\n",
      "Platform: win-64\n",
      "Collecting package metadata (repodata.json): done\n",
      "Solving environment: done\n",
      "\n",
      "# All requested packages already installed.\n",
      "\n",
      "\n",
      "Note: you may need to restart the kernel to use updated packages.\n"
     ]
    }
   ],
   "source": [
    "%conda install -c conda-forge kagglehub\n"
   ]
  },
  {
   "cell_type": "code",
   "execution_count": 2,
   "id": "ca9e047b",
   "metadata": {},
   "outputs": [
    {
     "name": "stderr",
     "output_type": "stream",
     "text": [
      "C:\\Users\\Itsashashi\\miniconda3\\envs\\tf-env\\lib\\site-packages\\tqdm\\auto.py:21: TqdmWarning: IProgress not found. Please update jupyter and ipywidgets. See https://ipywidgets.readthedocs.io/en/stable/user_install.html\n",
      "  from .autonotebook import tqdm as notebook_tqdm\n"
     ]
    },
    {
     "name": "stdout",
     "output_type": "stream",
     "text": [
      "Warning: Looks like you're using an outdated `kagglehub` version (installed: 0.3.8), please consider upgrading to the latest version (0.3.12).\n",
      "Path to dataset files: C:\\Users\\Itsashashi\\.cache\\kagglehub\\datasets\\vipoooool\\new-plant-diseases-dataset\\versions\\2\n"
     ]
    }
   ],
   "source": [
    "# Prova import dataset\n",
    "import kagglehub\n",
    "\n",
    "# Download latest version\n",
    "path = kagglehub.dataset_download(\"vipoooool/new-plant-diseases-dataset\")\n",
    "\n",
    "print(\"Path to dataset files:\", path)\n"
   ]
  },
  {
   "cell_type": "code",
   "execution_count": 4,
   "id": "235d6cf6",
   "metadata": {},
   "outputs": [],
   "source": [
    "train_path = path + \"/New Plant Diseases Dataset(Augmented)/New Plant Diseases Dataset(Augmented)/train\"\n",
    "val_path = path + \"/New Plant Diseases Dataset(Augmented)/New Plant Diseases Dataset(Augmented)/valid\"\n",
    "test_path = path + \"/test\""
   ]
  },
  {
   "cell_type": "code",
   "execution_count": 5,
   "id": "d805808c",
   "metadata": {},
   "outputs": [
    {
     "data": {
      "text/plain": [
       "'C:\\\\Users\\\\Itsashashi\\\\.cache\\\\kagglehub\\\\datasets\\\\vipoooool\\\\new-plant-diseases-dataset\\\\versions\\\\2/New Plant Diseases Dataset(Augmented)/New Plant Diseases Dataset(Augmented)/train'"
      ]
     },
     "execution_count": 5,
     "metadata": {},
     "output_type": "execute_result"
    }
   ],
   "source": [
    "train_path"
   ]
  },
  {
   "cell_type": "code",
   "execution_count": 6,
   "id": "f366ab9e",
   "metadata": {},
   "outputs": [
    {
     "name": "stdout",
     "output_type": "stream",
     "text": [
      " Volume in drive C is OS\n",
      " Volume Serial Number is 90BA-7656\n",
      "\n",
      " Directory of C:\\Users\\Itsashashi\\.cache\\kagglehub\\datasets\\vipoooool\\new-plant-diseases-dataset\\versions\\2\\New Plant Diseases Dataset(Augmented)\\New Plant Diseases Dataset(Augmented)\\train\n",
      "\n",
      "09/07/2025  20:57    <DIR>          .\n",
      "09/07/2025  20:57    <DIR>          ..\n",
      "09/07/2025  20:56    <DIR>          Apple___Apple_scab\n",
      "09/07/2025  20:56    <DIR>          Apple___Black_rot\n",
      "09/07/2025  20:56    <DIR>          Apple___Cedar_apple_rust\n",
      "09/07/2025  20:56    <DIR>          Apple___healthy\n",
      "09/07/2025  20:56    <DIR>          Blueberry___healthy\n",
      "09/07/2025  20:56    <DIR>          Cherry_(including_sour)___healthy\n",
      "09/07/2025  20:56    <DIR>          Cherry_(including_sour)___Powdery_mildew\n",
      "09/07/2025  20:56    <DIR>          Corn_(maize)___Cercospora_leaf_spot Gray_leaf_spot\n",
      "09/07/2025  20:56    <DIR>          Corn_(maize)___Common_rust_\n",
      "09/07/2025  20:56    <DIR>          Corn_(maize)___healthy\n",
      "09/07/2025  20:56    <DIR>          Corn_(maize)___Northern_Leaf_Blight\n",
      "09/07/2025  20:56    <DIR>          Grape___Black_rot\n",
      "09/07/2025  20:56    <DIR>          Grape___Esca_(Black_Measles)\n",
      "09/07/2025  20:56    <DIR>          Grape___healthy\n",
      "09/07/2025  20:56    <DIR>          Grape___Leaf_blight_(Isariopsis_Leaf_Spot)\n",
      "09/07/2025  20:56    <DIR>          Orange___Haunglongbing_(Citrus_greening)\n",
      "09/07/2025  20:56    <DIR>          Peach___Bacterial_spot\n",
      "09/07/2025  20:56    <DIR>          Peach___healthy\n",
      "09/07/2025  20:56    <DIR>          Pepper,_bell___Bacterial_spot\n",
      "09/07/2025  20:56    <DIR>          Pepper,_bell___healthy\n",
      "09/07/2025  20:56    <DIR>          Potato___Early_blight\n",
      "09/07/2025  20:56    <DIR>          Potato___healthy\n",
      "09/07/2025  20:56    <DIR>          Potato___Late_blight\n",
      "09/07/2025  20:57    <DIR>          Raspberry___healthy\n",
      "09/07/2025  20:57    <DIR>          Soybean___healthy\n",
      "09/07/2025  20:57    <DIR>          Squash___Powdery_mildew\n",
      "09/07/2025  20:57    <DIR>          Strawberry___healthy\n",
      "09/07/2025  20:57    <DIR>          Strawberry___Leaf_scorch\n",
      "09/07/2025  20:57    <DIR>          Tomato___Bacterial_spot\n",
      "09/07/2025  20:57    <DIR>          Tomato___Early_blight\n",
      "09/07/2025  20:57    <DIR>          Tomato___healthy\n",
      "09/07/2025  20:57    <DIR>          Tomato___Late_blight\n",
      "09/07/2025  20:57    <DIR>          Tomato___Leaf_Mold\n",
      "09/07/2025  20:57    <DIR>          Tomato___Septoria_leaf_spot\n",
      "09/07/2025  20:57    <DIR>          Tomato___Spider_mites Two-spotted_spider_mite\n",
      "09/07/2025  20:57    <DIR>          Tomato___Target_Spot\n",
      "09/07/2025  20:57    <DIR>          Tomato___Tomato_mosaic_virus\n",
      "09/07/2025  20:57    <DIR>          Tomato___Tomato_Yellow_Leaf_Curl_Virus\n",
      "               0 File(s)              0 bytes\n",
      "              40 Dir(s)  65,184,210,944 bytes free\n",
      " Volume in drive C is OS\n",
      " Volume Serial Number is 90BA-7656\n",
      "\n",
      " Directory of C:\\Users\\Itsashashi\\.cache\\kagglehub\\datasets\\vipoooool\\new-plant-diseases-dataset\\versions\\2\\New Plant Diseases Dataset(Augmented)\\New Plant Diseases Dataset(Augmented)\\valid\n",
      "\n",
      "09/07/2025  20:57    <DIR>          .\n",
      "09/07/2025  20:57    <DIR>          ..\n",
      "09/07/2025  20:57    <DIR>          Apple___Apple_scab\n",
      "09/07/2025  20:57    <DIR>          Apple___Black_rot\n",
      "09/07/2025  20:57    <DIR>          Apple___Cedar_apple_rust\n",
      "09/07/2025  20:57    <DIR>          Apple___healthy\n",
      "09/07/2025  20:57    <DIR>          Blueberry___healthy\n",
      "09/07/2025  20:57    <DIR>          Cherry_(including_sour)___healthy\n",
      "09/07/2025  20:57    <DIR>          Cherry_(including_sour)___Powdery_mildew\n",
      "09/07/2025  20:57    <DIR>          Corn_(maize)___Cercospora_leaf_spot Gray_leaf_spot\n",
      "09/07/2025  20:57    <DIR>          Corn_(maize)___Common_rust_\n",
      "09/07/2025  20:57    <DIR>          Corn_(maize)___healthy\n",
      "09/07/2025  20:57    <DIR>          Corn_(maize)___Northern_Leaf_Blight\n",
      "09/07/2025  20:57    <DIR>          Grape___Black_rot\n",
      "09/07/2025  20:57    <DIR>          Grape___Esca_(Black_Measles)\n",
      "09/07/2025  20:57    <DIR>          Grape___healthy\n",
      "09/07/2025  20:57    <DIR>          Grape___Leaf_blight_(Isariopsis_Leaf_Spot)\n",
      "09/07/2025  20:57    <DIR>          Orange___Haunglongbing_(Citrus_greening)\n",
      "09/07/2025  20:57    <DIR>          Peach___Bacterial_spot\n",
      "09/07/2025  20:57    <DIR>          Peach___healthy\n",
      "09/07/2025  20:57    <DIR>          Pepper,_bell___Bacterial_spot\n",
      "09/07/2025  20:57    <DIR>          Pepper,_bell___healthy\n",
      "09/07/2025  20:57    <DIR>          Potato___Early_blight\n",
      "09/07/2025  20:57    <DIR>          Potato___healthy\n",
      "09/07/2025  20:57    <DIR>          Potato___Late_blight\n",
      "09/07/2025  20:57    <DIR>          Raspberry___healthy\n",
      "09/07/2025  20:57    <DIR>          Soybean___healthy\n",
      "09/07/2025  20:57    <DIR>          Squash___Powdery_mildew\n",
      "09/07/2025  20:57    <DIR>          Strawberry___healthy\n",
      "09/07/2025  20:57    <DIR>          Strawberry___Leaf_scorch\n",
      "09/07/2025  20:57    <DIR>          Tomato___Bacterial_spot\n",
      "09/07/2025  20:57    <DIR>          Tomato___Early_blight\n",
      "09/07/2025  20:57    <DIR>          Tomato___healthy\n",
      "09/07/2025  20:57    <DIR>          Tomato___Late_blight\n",
      "09/07/2025  20:57    <DIR>          Tomato___Leaf_Mold\n",
      "09/07/2025  20:57    <DIR>          Tomato___Septoria_leaf_spot\n",
      "09/07/2025  20:57    <DIR>          Tomato___Spider_mites Two-spotted_spider_mite\n",
      "09/07/2025  20:57    <DIR>          Tomato___Target_Spot\n",
      "09/07/2025  20:57    <DIR>          Tomato___Tomato_mosaic_virus\n",
      "09/07/2025  20:57    <DIR>          Tomato___Tomato_Yellow_Leaf_Curl_Virus\n",
      "               0 File(s)              0 bytes\n",
      "              40 Dir(s)  65,184,145,408 bytes free\n"
     ]
    }
   ],
   "source": [
    "%ls \"{train_path}\"\n",
    "%ls \"{val_path}\""
   ]
  },
  {
   "cell_type": "code",
   "execution_count": 7,
   "id": "1337f65a",
   "metadata": {},
   "outputs": [],
   "source": [
    "import tensorflow as tf"
   ]
  },
  {
   "cell_type": "code",
   "execution_count": 8,
   "id": "ec33ccda",
   "metadata": {},
   "outputs": [
    {
     "name": "stdout",
     "output_type": "stream",
     "text": [
      "Found 70295 files belonging to 38 classes.\n",
      "Found 17572 files belonging to 38 classes.\n",
      "Found 33 files belonging to 1 classes.\n"
     ]
    },
    {
     "data": {
      "text/plain": [
       "<_PrefetchDataset element_spec=(TensorSpec(shape=(None, 256, 256, 3), dtype=tf.float32, name=None), TensorSpec(shape=(None, 1), dtype=tf.float32, name=None))>"
      ]
     },
     "execution_count": 8,
     "metadata": {},
     "output_type": "execute_result"
    }
   ],
   "source": [
    "img_size = (256, 256)\n",
    "batch_size = 32\n",
    "\n",
    "train_ds = tf.keras.utils.image_dataset_from_directory(\n",
    "    train_path,\n",
    "    image_size=img_size,\n",
    "    batch_size=batch_size,\n",
    "    label_mode='categorical'\n",
    ")\n",
    "\n",
    "val_ds = tf.keras.utils.image_dataset_from_directory(\n",
    "    val_path,\n",
    "    image_size=img_size,\n",
    "    batch_size=batch_size,\n",
    "    label_mode='categorical'\n",
    ")\n",
    "\n",
    "test_ds = tf.keras.utils.image_dataset_from_directory(\n",
    "    test_path,\n",
    "    image_size=img_size,\n",
    "    batch_size=batch_size,\n",
    "    label_mode='categorical'\n",
    ")\n",
    "\n",
    "test_ds"
   ]
  },
  {
   "cell_type": "code",
   "execution_count": 9,
   "id": "98514b51",
   "metadata": {},
   "outputs": [],
   "source": [
    "# ipotesi modello\n",
    "# convolutional 2d\n",
    "# relu activation\n",
    "# maxpooling forse?\n",
    "# convolutional 3d"
   ]
  },
  {
   "cell_type": "code",
   "execution_count": null,
   "id": "54917a87-7a9f-41fa-80d2-fe6cfbed2ef4",
   "metadata": {},
   "outputs": [],
   "source": []
  }
 ],
 "metadata": {
  "kernelspec": {
   "display_name": "Python (tf-env)",
   "language": "python",
   "name": "tf-env"
  },
  "language_info": {
   "codemirror_mode": {
    "name": "ipython",
    "version": 3
   },
   "file_extension": ".py",
   "mimetype": "text/x-python",
   "name": "python",
   "nbconvert_exporter": "python",
   "pygments_lexer": "ipython3",
   "version": "3.10.18"
  }
 },
 "nbformat": 4,
 "nbformat_minor": 5
}
