{
 "cells": [
  {
   "cell_type": "markdown",
   "id": "eb560a95",
   "metadata": {},
   "source": [
    "# Progetto d'esame di Data Analysis in Experimental Physics with Machine Learning\n",
    "\n",
    "Gruppo composto dagli studenti Luca Attinà, Sharis Feriotto e Matteo Marchisio Caprioglio"
   ]
  },
  {
   "cell_type": "markdown",
   "id": "7bf32c52",
   "metadata": {},
   "source": [
    "Dataset ipotesi: https://www.kaggle.com/datasets/vipoooool/new-plant-diseases-dataset"
   ]
  },
  {
   "cell_type": "code",
   "execution_count": 1,
   "id": "f8f8ed6f-f6db-4cf8-b539-b295cdbc66bc",
   "metadata": {},
   "outputs": [],
   "source": [
    "import matplotlib.pyplot as plt"
   ]
  },
  {
   "cell_type": "code",
   "execution_count": 2,
   "id": "301fcd60",
   "metadata": {},
   "outputs": [
    {
     "name": "stdout",
     "output_type": "stream",
     "text": [
      "Jupyter detected...\n",
      "Note: you may need to restart the kernel to use updated packages.\n",
      "\n",
      "Channels:\n",
      " - conda-forge\n",
      " - defaults\n",
      "Platform: win-64\n",
      "Collecting package metadata (repodata.json): done\n",
      "Solving environment: done\n",
      "\n",
      "# All requested packages already installed.\n",
      "\n"
     ]
    }
   ],
   "source": [
    "%conda install -c conda-forge kagglehub\n"
   ]
  },
  {
   "cell_type": "code",
   "execution_count": 3,
   "id": "419da88d-a630-4128-bc95-74ec567036e5",
   "metadata": {},
   "outputs": [
    {
     "name": "stdout",
     "output_type": "stream",
     "text": [
      "Requirement already satisfied: matplotlib in c:\\users\\itsashashi\\miniconda3\\envs\\tf-env\\lib\\site-packages (3.10.0)\n",
      "Requirement already satisfied: contourpy>=1.0.1 in c:\\users\\itsashashi\\miniconda3\\envs\\tf-env\\lib\\site-packages (from matplotlib) (1.3.1)\n",
      "Requirement already satisfied: cycler>=0.10 in c:\\users\\itsashashi\\miniconda3\\envs\\tf-env\\lib\\site-packages (from matplotlib) (0.11.0)\n",
      "Requirement already satisfied: fonttools>=4.22.0 in c:\\users\\itsashashi\\miniconda3\\envs\\tf-env\\lib\\site-packages (from matplotlib) (4.55.3)\n",
      "Requirement already satisfied: kiwisolver>=1.3.1 in c:\\users\\itsashashi\\miniconda3\\envs\\tf-env\\lib\\site-packages (from matplotlib) (1.4.8)\n",
      "Requirement already satisfied: numpy>=1.23 in c:\\users\\itsashashi\\miniconda3\\envs\\tf-env\\lib\\site-packages (from matplotlib) (2.0.1)\n",
      "Requirement already satisfied: packaging>=20.0 in c:\\users\\itsashashi\\miniconda3\\envs\\tf-env\\lib\\site-packages (from matplotlib) (25.0)\n",
      "Requirement already satisfied: pillow>=8 in c:\\users\\itsashashi\\miniconda3\\envs\\tf-env\\lib\\site-packages (from matplotlib) (11.1.0)\n",
      "Requirement already satisfied: pyparsing>=2.3.1 in c:\\users\\itsashashi\\miniconda3\\envs\\tf-env\\lib\\site-packages (from matplotlib) (3.2.0)\n",
      "Requirement already satisfied: python-dateutil>=2.7 in c:\\users\\itsashashi\\miniconda3\\envs\\tf-env\\lib\\site-packages (from matplotlib) (2.9.0.post0)\n",
      "Requirement already satisfied: six>=1.5 in c:\\users\\itsashashi\\miniconda3\\envs\\tf-env\\lib\\site-packages (from python-dateutil>=2.7->matplotlib) (1.17.0)\n"
     ]
    }
   ],
   "source": [
    "!pip install matplotlib"
   ]
  },
  {
   "cell_type": "code",
   "execution_count": 4,
   "id": "ca9e047b",
   "metadata": {},
   "outputs": [
    {
     "name": "stderr",
     "output_type": "stream",
     "text": [
      "C:\\Users\\Itsashashi\\miniconda3\\envs\\tf-env\\lib\\site-packages\\tqdm\\auto.py:21: TqdmWarning: IProgress not found. Please update jupyter and ipywidgets. See https://ipywidgets.readthedocs.io/en/stable/user_install.html\n",
      "  from .autonotebook import tqdm as notebook_tqdm\n"
     ]
    },
    {
     "name": "stdout",
     "output_type": "stream",
     "text": [
      "Warning: Looks like you're using an outdated `kagglehub` version (installed: 0.3.8), please consider upgrading to the latest version (0.3.12).\n",
      "Path to dataset files: C:\\Users\\Itsashashi\\.cache\\kagglehub\\datasets\\vipoooool\\new-plant-diseases-dataset\\versions\\2\n"
     ]
    }
   ],
   "source": [
    "# Prova import dataset\n",
    "import kagglehub\n",
    "\n",
    "# Download latest version\n",
    "path = kagglehub.dataset_download(\"vipoooool/new-plant-diseases-dataset\")\n",
    "\n",
    "print(\"Path to dataset files:\", path)\n"
   ]
  },
  {
   "cell_type": "code",
   "execution_count": 5,
   "id": "235d6cf6",
   "metadata": {},
   "outputs": [],
   "source": [
    "train_path = path + \"/New Plant Diseases Dataset(Augmented)/New Plant Diseases Dataset(Augmented)/train\"\n",
    "val_path = path + \"/New Plant Diseases Dataset(Augmented)/New Plant Diseases Dataset(Augmented)/valid\"\n",
    "test_path = path + \"/test\""
   ]
  },
  {
   "cell_type": "code",
   "execution_count": 6,
   "id": "d805808c",
   "metadata": {},
   "outputs": [
    {
     "data": {
      "text/plain": [
       "'C:\\\\Users\\\\Itsashashi\\\\.cache\\\\kagglehub\\\\datasets\\\\vipoooool\\\\new-plant-diseases-dataset\\\\versions\\\\2/New Plant Diseases Dataset(Augmented)/New Plant Diseases Dataset(Augmented)/train'"
      ]
     },
     "execution_count": 6,
     "metadata": {},
     "output_type": "execute_result"
    }
   ],
   "source": [
    "train_path"
   ]
  },
  {
   "cell_type": "code",
   "execution_count": 7,
   "id": "f366ab9e",
   "metadata": {
    "collapsed": true,
    "jupyter": {
     "outputs_hidden": true
    },
    "scrolled": true
   },
   "outputs": [
    {
     "name": "stdout",
     "output_type": "stream",
     "text": [
      " Volume in drive C is OS\n",
      " Volume Serial Number is 90BA-7656\n",
      "\n",
      " Directory of C:\\Users\\Itsashashi\\.cache\\kagglehub\\datasets\\vipoooool\\new-plant-diseases-dataset\\versions\\2\\New Plant Diseases Dataset(Augmented)\\New Plant Diseases Dataset(Augmented)\\train\n",
      "\n",
      "09/07/2025  20:57    <DIR>          .\n",
      "09/07/2025  20:57    <DIR>          ..\n",
      "09/07/2025  20:56    <DIR>          Apple___Apple_scab\n",
      "09/07/2025  20:56    <DIR>          Apple___Black_rot\n",
      "09/07/2025  20:56    <DIR>          Apple___Cedar_apple_rust\n",
      "09/07/2025  20:56    <DIR>          Apple___healthy\n",
      "09/07/2025  20:56    <DIR>          Blueberry___healthy\n",
      "09/07/2025  20:56    <DIR>          Cherry_(including_sour)___healthy\n",
      "09/07/2025  20:56    <DIR>          Cherry_(including_sour)___Powdery_mildew\n",
      "09/07/2025  20:56    <DIR>          Corn_(maize)___Cercospora_leaf_spot Gray_leaf_spot\n",
      "09/07/2025  20:56    <DIR>          Corn_(maize)___Common_rust_\n",
      "09/07/2025  20:56    <DIR>          Corn_(maize)___healthy\n",
      "09/07/2025  20:56    <DIR>          Corn_(maize)___Northern_Leaf_Blight\n",
      "09/07/2025  20:56    <DIR>          Grape___Black_rot\n",
      "09/07/2025  20:56    <DIR>          Grape___Esca_(Black_Measles)\n",
      "09/07/2025  20:56    <DIR>          Grape___healthy\n",
      "09/07/2025  20:56    <DIR>          Grape___Leaf_blight_(Isariopsis_Leaf_Spot)\n",
      "09/07/2025  20:56    <DIR>          Orange___Haunglongbing_(Citrus_greening)\n",
      "09/07/2025  20:56    <DIR>          Peach___Bacterial_spot\n",
      "09/07/2025  20:56    <DIR>          Peach___healthy\n",
      "09/07/2025  20:56    <DIR>          Pepper,_bell___Bacterial_spot\n",
      "09/07/2025  20:56    <DIR>          Pepper,_bell___healthy\n",
      "09/07/2025  20:56    <DIR>          Potato___Early_blight\n",
      "09/07/2025  20:56    <DIR>          Potato___healthy\n",
      "09/07/2025  20:56    <DIR>          Potato___Late_blight\n",
      "09/07/2025  20:57    <DIR>          Raspberry___healthy\n",
      "09/07/2025  20:57    <DIR>          Soybean___healthy\n",
      "09/07/2025  20:57    <DIR>          Squash___Powdery_mildew\n",
      "09/07/2025  20:57    <DIR>          Strawberry___healthy\n",
      "09/07/2025  20:57    <DIR>          Strawberry___Leaf_scorch\n",
      "09/07/2025  20:57    <DIR>          Tomato___Bacterial_spot\n",
      "09/07/2025  20:57    <DIR>          Tomato___Early_blight\n",
      "09/07/2025  20:57    <DIR>          Tomato___healthy\n",
      "09/07/2025  20:57    <DIR>          Tomato___Late_blight\n",
      "09/07/2025  20:57    <DIR>          Tomato___Leaf_Mold\n",
      "09/07/2025  20:57    <DIR>          Tomato___Septoria_leaf_spot\n",
      "09/07/2025  20:57    <DIR>          Tomato___Spider_mites Two-spotted_spider_mite\n",
      "09/07/2025  20:57    <DIR>          Tomato___Target_Spot\n",
      "09/07/2025  20:57    <DIR>          Tomato___Tomato_mosaic_virus\n",
      "09/07/2025  20:57    <DIR>          Tomato___Tomato_Yellow_Leaf_Curl_Virus\n",
      "               0 File(s)              0 bytes\n",
      "              40 Dir(s)  61,299,511,296 bytes free\n",
      " Volume in drive C is OS\n",
      " Volume Serial Number is 90BA-7656\n",
      "\n",
      " Directory of C:\\Users\\Itsashashi\\.cache\\kagglehub\\datasets\\vipoooool\\new-plant-diseases-dataset\\versions\\2\\New Plant Diseases Dataset(Augmented)\\New Plant Diseases Dataset(Augmented)\\valid\n",
      "\n",
      "09/07/2025  20:57    <DIR>          .\n",
      "09/07/2025  20:57    <DIR>          ..\n",
      "09/07/2025  20:57    <DIR>          Apple___Apple_scab\n",
      "09/07/2025  20:57    <DIR>          Apple___Black_rot\n",
      "09/07/2025  20:57    <DIR>          Apple___Cedar_apple_rust\n",
      "09/07/2025  20:57    <DIR>          Apple___healthy\n",
      "09/07/2025  20:57    <DIR>          Blueberry___healthy\n",
      "09/07/2025  20:57    <DIR>          Cherry_(including_sour)___healthy\n",
      "09/07/2025  20:57    <DIR>          Cherry_(including_sour)___Powdery_mildew\n",
      "09/07/2025  20:57    <DIR>          Corn_(maize)___Cercospora_leaf_spot Gray_leaf_spot\n",
      "09/07/2025  20:57    <DIR>          Corn_(maize)___Common_rust_\n",
      "09/07/2025  20:57    <DIR>          Corn_(maize)___healthy\n",
      "09/07/2025  20:57    <DIR>          Corn_(maize)___Northern_Leaf_Blight\n",
      "09/07/2025  20:57    <DIR>          Grape___Black_rot\n",
      "09/07/2025  20:57    <DIR>          Grape___Esca_(Black_Measles)\n",
      "09/07/2025  20:57    <DIR>          Grape___healthy\n",
      "09/07/2025  20:57    <DIR>          Grape___Leaf_blight_(Isariopsis_Leaf_Spot)\n",
      "09/07/2025  20:57    <DIR>          Orange___Haunglongbing_(Citrus_greening)\n",
      "09/07/2025  20:57    <DIR>          Peach___Bacterial_spot\n",
      "09/07/2025  20:57    <DIR>          Peach___healthy\n",
      "09/07/2025  20:57    <DIR>          Pepper,_bell___Bacterial_spot\n",
      "09/07/2025  20:57    <DIR>          Pepper,_bell___healthy\n",
      "09/07/2025  20:57    <DIR>          Potato___Early_blight\n",
      "09/07/2025  20:57    <DIR>          Potato___healthy\n",
      "09/07/2025  20:57    <DIR>          Potato___Late_blight\n",
      "09/07/2025  20:57    <DIR>          Raspberry___healthy\n",
      "09/07/2025  20:57    <DIR>          Soybean___healthy\n",
      "09/07/2025  20:57    <DIR>          Squash___Powdery_mildew\n",
      "09/07/2025  20:57    <DIR>          Strawberry___healthy\n",
      "09/07/2025  20:57    <DIR>          Strawberry___Leaf_scorch\n",
      "09/07/2025  20:57    <DIR>          Tomato___Bacterial_spot\n",
      "09/07/2025  20:57    <DIR>          Tomato___Early_blight\n",
      "09/07/2025  20:57    <DIR>          Tomato___healthy\n",
      "09/07/2025  20:57    <DIR>          Tomato___Late_blight\n",
      "09/07/2025  20:57    <DIR>          Tomato___Leaf_Mold\n",
      "09/07/2025  20:57    <DIR>          Tomato___Septoria_leaf_spot\n",
      "09/07/2025  20:57    <DIR>          Tomato___Spider_mites Two-spotted_spider_mite\n",
      "09/07/2025  20:57    <DIR>          Tomato___Target_Spot\n",
      "09/07/2025  20:57    <DIR>          Tomato___Tomato_mosaic_virus\n",
      "09/07/2025  20:57    <DIR>          Tomato___Tomato_Yellow_Leaf_Curl_Virus\n",
      "               0 File(s)              0 bytes\n",
      "              40 Dir(s)  61,299,511,296 bytes free\n"
     ]
    }
   ],
   "source": [
    "%ls \"{train_path}\"\n",
    "%ls \"{val_path}\""
   ]
  },
  {
   "cell_type": "code",
   "execution_count": 8,
   "id": "1337f65a",
   "metadata": {},
   "outputs": [],
   "source": [
    "import tensorflow as tf\n",
    "from tensorflow.keras.models import Sequential\n",
    "from tensorflow.keras import layers, models"
   ]
  },
  {
   "cell_type": "code",
   "execution_count": 26,
   "id": "ec33ccda",
   "metadata": {},
   "outputs": [
    {
     "name": "stdout",
     "output_type": "stream",
     "text": [
      "Found 70295 files belonging to 38 classes.\n",
      "Found 17572 files belonging to 38 classes.\n",
      "Found 33 files belonging to 1 classes.\n"
     ]
    },
    {
     "data": {
      "text/plain": [
       "<_PrefetchDataset element_spec=(TensorSpec(shape=(None, 256, 256, 3), dtype=tf.float32, name=None), TensorSpec(shape=(None, 1), dtype=tf.float32, name=None))>"
      ]
     },
     "execution_count": 26,
     "metadata": {},
     "output_type": "execute_result"
    }
   ],
   "source": [
    "img_size = (256, 256)\n",
    "batch_size = 64\n",
    "\n",
    "train_ds = tf.keras.utils.image_dataset_from_directory(\n",
    "    train_path,\n",
    "    image_size=img_size,\n",
    "    batch_size=batch_size,\n",
    "    label_mode='categorical',\n",
    "    color_mode= \"rgb\"\n",
    ")\n",
    "\n",
    "val_ds = tf.keras.utils.image_dataset_from_directory(\n",
    "    val_path,\n",
    "    image_size=img_size,\n",
    "    batch_size=batch_size,\n",
    "    label_mode='categorical',\n",
    "    color_mode= \"rgb\"\n",
    "\n",
    ")\n",
    "\n",
    "test_ds = tf.keras.utils.image_dataset_from_directory(\n",
    "    test_path,\n",
    "    image_size=img_size,\n",
    "    batch_size=batch_size,\n",
    "    label_mode='categorical',\n",
    "    color_mode= \"rgb\"\n",
    "\n",
    ")\n",
    "\n",
    "test_ds"
   ]
  },
  {
   "cell_type": "code",
   "execution_count": 27,
   "id": "98514b51",
   "metadata": {},
   "outputs": [],
   "source": [
    "# ipotesi modello\n",
    "# convolutional 2d\n",
    "# relu activation\n",
    "# maxpooling forse?\n"
   ]
  },
  {
   "cell_type": "raw",
   "id": "d6dde980-a95d-4210-a7b5-a01276bca81c",
   "metadata": {},
   "source": [
    "MODEL"
   ]
  },
  {
   "cell_type": "code",
   "execution_count": 28,
   "id": "73acdda6-24d5-4c07-b13e-e5d06f66ba3c",
   "metadata": {},
   "outputs": [],
   "source": [
    "# Get number of classes from dataset\n",
    "num_classes = len(train_ds.class_names)\n"
   ]
  },
  {
   "cell_type": "code",
   "execution_count": 29,
   "id": "5794e050-29a3-4a5a-b334-fe921c6465d7",
   "metadata": {},
   "outputs": [],
   "source": [
    "# Define the model\n",
    "model = models.Sequential([\n",
    "    layers.Rescaling(1./255, input_shape=(256, 256, 3)),\n",
    "    \n",
    "    layers.Conv2D(32, (3, 3), activation='relu'),\n",
    "    layers.MaxPooling2D(),\n",
    "\n",
    "    layers.Conv2D(64, (3, 3), activation='relu'),\n",
    "    layers.MaxPooling2D(),\n",
    "\n",
    "    layers.Conv2D(128, (3, 3), activation='relu'),\n",
    "    layers.MaxPooling2D(),\n",
    "\n",
    "    layers.Flatten(),\n",
    "    layers.Dense(64, activation='relu'),\n",
    "    layers.Dropout(0.5),  # helps prevent overfitting\n",
    "    layers.Dense(num_classes, activation='softmax')\n",
    "])"
   ]
  },
  {
   "cell_type": "code",
   "execution_count": 30,
   "id": "abae2a39-45f5-4a06-8c68-18e86e047a80",
   "metadata": {},
   "outputs": [],
   "source": [
    "early_stop = tf.keras.callbacks.EarlyStopping(\n",
    "    monitor='val_loss',\n",
    "    patience=3,\n",
    "    restore_best_weights=True\n",
    ")"
   ]
  },
  {
   "cell_type": "code",
   "execution_count": 31,
   "id": "646d48a0-7648-4103-976d-d9209b620168",
   "metadata": {},
   "outputs": [],
   "source": [
    "# Compile the model\n",
    "model.compile(\n",
    "    optimizer='adam',\n",
    "    loss='categorical_crossentropy',\n",
    "    metrics=['accuracy']\n",
    ")"
   ]
  },
  {
   "cell_type": "code",
   "execution_count": null,
   "id": "9b1bb7d4-f4ca-429f-8390-b6baf2b20c35",
   "metadata": {},
   "outputs": [
    {
     "name": "stdout",
     "output_type": "stream",
     "text": [
      "Epoch 1/4\n",
      "\u001b[1m 255/1099\u001b[0m \u001b[32m━━━━\u001b[0m\u001b[37m━━━━━━━━━━━━━━━━\u001b[0m \u001b[1m42:48\u001b[0m 3s/step - accuracy: 0.0665 - loss: 3.5521"
     ]
    }
   ],
   "source": [
    "# Train the model\n",
    "history = model.fit(\n",
    "    train_ds,\n",
    "    validation_data=val_ds,\n",
    "    epochs=4,\n",
    "    callbacks=[early_stop]\n",
    ")\n"
   ]
  },
  {
   "cell_type": "code",
   "execution_count": null,
   "id": "4be78ec1-0ee1-4522-a233-99fc3612c647",
   "metadata": {},
   "outputs": [],
   "source": [
    "# Evaluate on test set\n",
    "test_loss, test_acc = model.evaluate(test_ds)\n",
    "print(f\"\\n✅ Test Accuracy: {test_acc:.4f}\")"
   ]
  },
  {
   "cell_type": "code",
   "execution_count": null,
   "id": "84b6ee40-2ac0-4f26-9d45-b4876ab22999",
   "metadata": {},
   "outputs": [],
   "source": [
    "\n",
    "# Plot accuracy\n",
    "plt.plot(history.history['accuracy'], label='Train Acc')\n",
    "plt.plot(history.history['val_accuracy'], label='Val Acc')\n",
    "plt.title('Model Accuracy')\n",
    "plt.xlabel('Epoch')\n",
    "plt.ylabel('Accuracy')\n",
    "plt.legend()\n",
    "plt.show()\n",
    "\n",
    "# Plot loss\n",
    "plt.plot(history.history['loss'], label='Train Loss')\n",
    "plt.plot(history.history['val_loss'], label='Val Loss')\n",
    "plt.title('Model Loss')\n",
    "plt.xlabel('Epoch')\n",
    "plt.ylabel('Loss')\n",
    "plt.legend()\n",
    "plt.show()"
   ]
  },
  {
   "cell_type": "code",
   "execution_count": null,
   "id": "ebedae9b-429d-42d5-a669-77936f112f79",
   "metadata": {},
   "outputs": [],
   "source": []
  }
 ],
 "metadata": {
  "kernelspec": {
   "display_name": "Python (tf-env)",
   "language": "python",
   "name": "tf-env"
  },
  "language_info": {
   "codemirror_mode": {
    "name": "ipython",
    "version": 3
   },
   "file_extension": ".py",
   "mimetype": "text/x-python",
   "name": "python",
   "nbconvert_exporter": "python",
   "pygments_lexer": "ipython3",
   "version": "3.10.18"
  }
 },
 "nbformat": 4,
 "nbformat_minor": 5
}
