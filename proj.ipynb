{
 "cells": [
  {
   "cell_type": "markdown",
   "id": "eb560a95",
   "metadata": {},
   "source": [
    "# Progetto d'esame di Data Analysis in Experimental Physics with Machine Learning\n",
    "\n",
    "Gruppo composto dagli studenti Luca Attinà, Sharis Feriotto e Matteo Marchisio Caprioglio"
   ]
  },
  {
   "cell_type": "markdown",
   "id": "7bf32c52",
   "metadata": {},
   "source": [
    "Dataset ipotesi: https://www.kaggle.com/datasets/vipoooool/new-plant-diseases-dataset"
   ]
  },
  {
   "cell_type": "code",
   "execution_count": null,
   "id": "f8f8ed6f-f6db-4cf8-b539-b295cdbc66bc",
   "metadata": {},
   "outputs": [],
   "source": [
    "import matplotlib.pyplot as plt\n"
   ]
  },
  {
   "cell_type": "code",
   "execution_count": null,
   "id": "301fcd60",
   "metadata": {},
   "outputs": [],
   "source": [
    "%conda install -c conda-forge kagglehub\n"
   ]
  },
  {
   "cell_type": "code",
   "execution_count": null,
   "id": "419da88d-a630-4128-bc95-74ec567036e5",
   "metadata": {},
   "outputs": [],
   "source": [
    "!pip install matplotlib\n"
   ]
  },
  {
   "cell_type": "code",
   "execution_count": null,
   "id": "ca9e047b",
   "metadata": {},
   "outputs": [],
   "source": [
    "# Prova import dataset\n",
    "import kagglehub\n",
    "\n",
    "# Download latest version\n",
    "path = kagglehub.dataset_download(\"vipoooool/new-plant-diseases-dataset\")\n",
    "\n",
    "print(\"Path to dataset files:\", path)\n"
   ]
  },
  {
   "cell_type": "code",
   "execution_count": null,
   "id": "235d6cf6",
   "metadata": {},
   "outputs": [],
   "source": [
    "train_path = path + \"/New Plant Diseases Dataset(Augmented)/New Plant Diseases Dataset(Augmented)/train\"\n",
    "val_path = path + \"/New Plant Diseases Dataset(Augmented)/New Plant Diseases Dataset(Augmented)/valid\"\n",
    "test_path = path + \"/test\"\n"
   ]
  },
  {
   "cell_type": "code",
   "execution_count": null,
   "id": "d805808c",
   "metadata": {},
   "outputs": [],
   "source": [
    "train_path\n"
   ]
  },
  {
   "cell_type": "code",
   "execution_count": null,
   "id": "f366ab9e",
   "metadata": {
    "collapsed": true,
    "jupyter": {
     "outputs_hidden": true
    },
    "scrolled": true
   },
   "outputs": [],
   "source": [
    "%ls \"{train_path}\"\n",
    "%ls \"{val_path}\"\n"
   ]
  },
  {
   "cell_type": "code",
   "execution_count": null,
   "id": "1337f65a",
   "metadata": {},
   "outputs": [],
   "source": [
    "import tensorflow as tf\n",
    "from tensorflow.keras.models import Sequential\n",
    "from tensorflow.keras import layers, models\n"
   ]
  },
  {
   "cell_type": "code",
   "execution_count": null,
   "id": "ec33ccda",
   "metadata": {},
   "outputs": [],
   "source": [
    "img_size = (256, 256)\n",
    "batch_size = 64\n",
    "\n",
    "train_ds = tf.keras.utils.image_dataset_from_directory(\n",
    "    train_path,\n",
    "    image_size=img_size,\n",
    "    batch_size=batch_size,\n",
    "    label_mode='categorical',\n",
    "    color_mode= \"rgb\"\n",
    ")\n",
    "\n",
    "val_ds = tf.keras.utils.image_dataset_from_directory(\n",
    "    val_path,\n",
    "    image_size=img_size,\n",
    "    batch_size=batch_size,\n",
    "    label_mode='categorical',\n",
    "    color_mode= \"rgb\"\n",
    "\n",
    ")\n",
    "\n",
    "test_ds = tf.keras.utils.image_dataset_from_directory(\n",
    "    test_path,\n",
    "    image_size=img_size,\n",
    "    batch_size=batch_size,\n",
    "    label_mode='categorical',\n",
    "    color_mode= \"rgb\"\n",
    "\n",
    ")\n",
    "\n",
    "test_ds\n"
   ]
  },
  {
   "cell_type": "code",
   "execution_count": null,
   "id": "98514b51",
   "metadata": {},
   "outputs": [],
   "source": [
    "# ipotesi modello\n",
    "# convolutional 2d\n",
    "# relu activation\n",
    "# maxpooling forse?\n"
   ]
  },
  {
   "cell_type": "raw",
   "id": "d6dde980-a95d-4210-a7b5-a01276bca81c",
   "metadata": {
    "vscode": {
     "languageId": "raw"
    }
   },
   "source": [
    "MODEL\n"
   ]
  },
  {
   "cell_type": "code",
   "execution_count": null,
   "id": "73acdda6-24d5-4c07-b13e-e5d06f66ba3c",
   "metadata": {},
   "outputs": [],
   "source": [
    "# Get number of classes from dataset\n",
    "num_classes = len(train_ds.class_names)\n"
   ]
  },
  {
   "cell_type": "code",
   "execution_count": null,
   "id": "5794e050-29a3-4a5a-b334-fe921c6465d7",
   "metadata": {},
   "outputs": [],
   "source": [
    "# Define the model\n",
    "model = models.Sequential([\n",
    "    layers.Rescaling(1./255, input_shape=(256, 256, 3)),\n",
    "    \n",
    "    layers.Conv2D(32, (3, 3), activation='relu'),\n",
    "    layers.MaxPooling2D(),\n",
    "\n",
    "    layers.Conv2D(64, (3, 3), activation='relu'),\n",
    "    layers.MaxPooling2D(),\n",
    "\n",
    "    layers.Conv2D(128, (3, 3), activation='relu'),\n",
    "    layers.MaxPooling2D(),\n",
    "\n",
    "    layers.Flatten(),\n",
    "    layers.Dense(64, activation='relu'),\n",
    "    layers.Dropout(0.5),  # helps prevent overfitting\n",
    "    layers.Dense(num_classes, activation='softmax')\n",
    "])\n"
   ]
  },
  {
   "cell_type": "code",
   "execution_count": null,
   "id": "abae2a39-45f5-4a06-8c68-18e86e047a80",
   "metadata": {},
   "outputs": [],
   "source": [
    "early_stop = tf.keras.callbacks.EarlyStopping(\n",
    "    monitor='val_loss',\n",
    "    patience=3,\n",
    "    restore_best_weights=True\n",
    ")\n"
   ]
  },
  {
   "cell_type": "code",
   "execution_count": null,
   "id": "646d48a0-7648-4103-976d-d9209b620168",
   "metadata": {},
   "outputs": [],
   "source": [
    "# Compile the model\n",
    "model.compile(\n",
    "    optimizer='adam',\n",
    "    loss='categorical_crossentropy',\n",
    "    metrics=['accuracy']\n",
    ")\n"
   ]
  },
  {
   "cell_type": "code",
   "execution_count": null,
   "id": "9b1bb7d4-f4ca-429f-8390-b6baf2b20c35",
   "metadata": {},
   "outputs": [],
   "source": [
    "# Train the model\n",
    "history = model.fit(\n",
    "    train_ds,\n",
    "    validation_data=val_ds,\n",
    "    epochs=4,\n",
    "    callbacks=[early_stop]\n",
    ")\n"
   ]
  },
  {
   "cell_type": "code",
   "execution_count": null,
   "id": "4be78ec1-0ee1-4522-a233-99fc3612c647",
   "metadata": {},
   "outputs": [],
   "source": [
    "# Evaluate on test set\n",
    "test_loss, test_acc = model.evaluate(test_ds)\n",
    "print(f\"\\n✅ Test Accuracy: {test_acc:.4f}\")\n"
   ]
  },
  {
   "cell_type": "code",
   "execution_count": null,
   "id": "84b6ee40-2ac0-4f26-9d45-b4876ab22999",
   "metadata": {},
   "outputs": [],
   "source": [
    "\n",
    "# Plot accuracy\n",
    "plt.plot(history.history['accuracy'], label='Train Acc')\n",
    "plt.plot(history.history['val_accuracy'], label='Val Acc')\n",
    "plt.title('Model Accuracy')\n",
    "plt.xlabel('Epoch')\n",
    "plt.ylabel('Accuracy')\n",
    "plt.legend()\n",
    "plt.show()\n",
    "\n",
    "# Plot loss\n",
    "plt.plot(history.history['loss'], label='Train Loss')\n",
    "plt.plot(history.history['val_loss'], label='Val Loss')\n",
    "plt.title('Model Loss')\n",
    "plt.xlabel('Epoch')\n",
    "plt.ylabel('Loss')\n",
    "plt.legend()\n",
    "plt.show()\n"
   ]
  },
  {
   "cell_type": "code",
   "execution_count": null,
   "id": "ebedae9b-429d-42d5-a669-77936f112f79",
   "metadata": {},
   "outputs": [],
   "source": []
  }
 ],
 "metadata": {
  "kernelspec": {
   "display_name": "daml",
   "language": "python",
   "name": "python3"
  },
  "language_info": {
   "codemirror_mode": {
    "name": "ipython",
    "version": 3
   },
   "file_extension": ".py",
   "mimetype": "text/x-python",
   "name": "python",
   "nbconvert_exporter": "python",
   "pygments_lexer": "ipython3",
   "version": "3.10.17"
  }
 },
 "nbformat": 4,
 "nbformat_minor": 5
}
