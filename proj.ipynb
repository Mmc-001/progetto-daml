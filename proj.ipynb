{
 "cells": [
  {
   "cell_type": "markdown",
   "id": "eb560a95",
   "metadata": {},
   "source": [
    "# Progetto d'esame di Data Analysis in Experimental Physics with Machine Learning\n",
    "\n",
    "Gruppo composto dagli studenti Luca Attinà, Sharis Feriotto e Matteo Marchisio Caprioglio"
   ]
  },
  {
   "cell_type": "markdown",
   "id": "7bf32c52",
   "metadata": {},
   "source": [
    "Dataset ipotesi: https://www.kaggle.com/datasets/vipoooool/new-plant-diseases-dataset"
   ]
  },
  {
   "cell_type": "code",
   "execution_count": 1,
   "id": "ca9e047b",
   "metadata": {},
   "outputs": [
    {
     "name": "stdout",
     "output_type": "stream",
     "text": [
      "Warning: Looks like you're using an outdated `kagglehub` version (installed: 0.3.8), please consider upgrading to the latest version (0.3.12).\n",
      "Path to dataset files: /Users/2mc/.cache/kagglehub/datasets/vipoooool/new-plant-diseases-dataset/versions/2\n"
     ]
    }
   ],
   "source": [
    "# Prova import dataset\n",
    "import kagglehub\n",
    "\n",
    "# Download latest version\n",
    "path = kagglehub.dataset_download(\"vipoooool/new-plant-diseases-dataset\")\n",
    "\n",
    "print(\"Path to dataset files:\", path)\n"
   ]
  },
  {
   "cell_type": "code",
   "execution_count": 2,
   "id": "235d6cf6",
   "metadata": {},
   "outputs": [],
   "source": [
    "train_path = path + \"/New Plant Diseases Dataset(Augmented)/New Plant Diseases Dataset(Augmented)/train\"\n",
    "val_path = path + \"/New Plant Diseases Dataset(Augmented)/New Plant Diseases Dataset(Augmented)/valid\"\n",
    "test_path = path + \"/test/test\"\n"
   ]
  },
  {
   "cell_type": "code",
   "execution_count": 3,
   "id": "d805808c",
   "metadata": {},
   "outputs": [
    {
     "data": {
      "text/plain": [
       "'/Users/2mc/.cache/kagglehub/datasets/vipoooool/new-plant-diseases-dataset/versions/2/test/test'"
      ]
     },
     "execution_count": 3,
     "metadata": {},
     "output_type": "execute_result"
    }
   ],
   "source": [
    "test_path\n"
   ]
  },
  {
   "cell_type": "code",
   "execution_count": null,
   "id": "f366ab9e",
   "metadata": {},
   "outputs": [
    {
     "name": "stdout",
     "output_type": "stream",
     "text": [
      "\u001b[34mApple___Apple_scab\u001b[m\u001b[m/\n",
      "\u001b[34mApple___Black_rot\u001b[m\u001b[m/\n",
      "\u001b[34mApple___Cedar_apple_rust\u001b[m\u001b[m/\n",
      "\u001b[34mApple___healthy\u001b[m\u001b[m/\n",
      "\u001b[34mBlueberry___healthy\u001b[m\u001b[m/\n",
      "\u001b[34mCherry_(including_sour)___Powdery_mildew\u001b[m\u001b[m/\n",
      "\u001b[34mCherry_(including_sour)___healthy\u001b[m\u001b[m/\n",
      "\u001b[34mCorn_(maize)___Cercospora_leaf_spot Gray_leaf_spot\u001b[m\u001b[m/\n",
      "\u001b[34mCorn_(maize)___Common_rust_\u001b[m\u001b[m/\n",
      "\u001b[34mCorn_(maize)___Northern_Leaf_Blight\u001b[m\u001b[m/\n",
      "\u001b[34mCorn_(maize)___healthy\u001b[m\u001b[m/\n",
      "\u001b[34mGrape___Black_rot\u001b[m\u001b[m/\n",
      "\u001b[34mGrape___Esca_(Black_Measles)\u001b[m\u001b[m/\n",
      "\u001b[34mGrape___Leaf_blight_(Isariopsis_Leaf_Spot)\u001b[m\u001b[m/\n",
      "\u001b[34mGrape___healthy\u001b[m\u001b[m/\n",
      "\u001b[34mOrange___Haunglongbing_(Citrus_greening)\u001b[m\u001b[m/\n",
      "\u001b[34mPeach___Bacterial_spot\u001b[m\u001b[m/\n",
      "\u001b[34mPeach___healthy\u001b[m\u001b[m/\n",
      "\u001b[34mPepper,_bell___Bacterial_spot\u001b[m\u001b[m/\n",
      "\u001b[34mPepper,_bell___healthy\u001b[m\u001b[m/\n",
      "\u001b[34mPotato___Early_blight\u001b[m\u001b[m/\n",
      "\u001b[34mPotato___Late_blight\u001b[m\u001b[m/\n",
      "\u001b[34mPotato___healthy\u001b[m\u001b[m/\n",
      "\u001b[34mRaspberry___healthy\u001b[m\u001b[m/\n",
      "\u001b[34mSoybean___healthy\u001b[m\u001b[m/\n",
      "\u001b[34mSquash___Powdery_mildew\u001b[m\u001b[m/\n",
      "\u001b[34mStrawberry___Leaf_scorch\u001b[m\u001b[m/\n",
      "\u001b[34mStrawberry___healthy\u001b[m\u001b[m/\n",
      "\u001b[34mTomato___Bacterial_spot\u001b[m\u001b[m/\n",
      "\u001b[34mTomato___Early_blight\u001b[m\u001b[m/\n",
      "\u001b[34mTomato___Late_blight\u001b[m\u001b[m/\n",
      "\u001b[34mTomato___Leaf_Mold\u001b[m\u001b[m/\n",
      "\u001b[34mTomato___Septoria_leaf_spot\u001b[m\u001b[m/\n",
      "\u001b[34mTomato___Spider_mites Two-spotted_spider_mite\u001b[m\u001b[m/\n",
      "\u001b[34mTomato___Target_Spot\u001b[m\u001b[m/\n",
      "\u001b[34mTomato___Tomato_Yellow_Leaf_Curl_Virus\u001b[m\u001b[m/\n",
      "\u001b[34mTomato___Tomato_mosaic_virus\u001b[m\u001b[m/\n",
      "\u001b[34mTomato___healthy\u001b[m\u001b[m/\n",
      "\u001b[34mApple___Apple_scab\u001b[m\u001b[m/\n",
      "\u001b[34mApple___Black_rot\u001b[m\u001b[m/\n",
      "\u001b[34mApple___Cedar_apple_rust\u001b[m\u001b[m/\n",
      "\u001b[34mApple___healthy\u001b[m\u001b[m/\n",
      "\u001b[34mBlueberry___healthy\u001b[m\u001b[m/\n",
      "\u001b[34mCherry_(including_sour)___Powdery_mildew\u001b[m\u001b[m/\n",
      "\u001b[34mCherry_(including_sour)___healthy\u001b[m\u001b[m/\n",
      "\u001b[34mCorn_(maize)___Cercospora_leaf_spot Gray_leaf_spot\u001b[m\u001b[m/\n",
      "\u001b[34mCorn_(maize)___Common_rust_\u001b[m\u001b[m/\n",
      "\u001b[34mCorn_(maize)___Northern_Leaf_Blight\u001b[m\u001b[m/\n",
      "\u001b[34mCorn_(maize)___healthy\u001b[m\u001b[m/\n",
      "\u001b[34mGrape___Black_rot\u001b[m\u001b[m/\n",
      "\u001b[34mGrape___Esca_(Black_Measles)\u001b[m\u001b[m/\n",
      "\u001b[34mGrape___Leaf_blight_(Isariopsis_Leaf_Spot)\u001b[m\u001b[m/\n",
      "\u001b[34mGrape___healthy\u001b[m\u001b[m/\n",
      "\u001b[34mOrange___Haunglongbing_(Citrus_greening)\u001b[m\u001b[m/\n",
      "\u001b[34mPeach___Bacterial_spot\u001b[m\u001b[m/\n",
      "\u001b[34mPeach___healthy\u001b[m\u001b[m/\n",
      "\u001b[34mPepper,_bell___Bacterial_spot\u001b[m\u001b[m/\n",
      "\u001b[34mPepper,_bell___healthy\u001b[m\u001b[m/\n",
      "\u001b[34mPotato___Early_blight\u001b[m\u001b[m/\n",
      "\u001b[34mPotato___Late_blight\u001b[m\u001b[m/\n",
      "\u001b[34mPotato___healthy\u001b[m\u001b[m/\n",
      "\u001b[34mRaspberry___healthy\u001b[m\u001b[m/\n",
      "\u001b[34mSoybean___healthy\u001b[m\u001b[m/\n",
      "\u001b[34mSquash___Powdery_mildew\u001b[m\u001b[m/\n",
      "\u001b[34mStrawberry___Leaf_scorch\u001b[m\u001b[m/\n",
      "\u001b[34mStrawberry___healthy\u001b[m\u001b[m/\n",
      "\u001b[34mTomato___Bacterial_spot\u001b[m\u001b[m/\n",
      "\u001b[34mTomato___Early_blight\u001b[m\u001b[m/\n",
      "\u001b[34mTomato___Late_blight\u001b[m\u001b[m/\n",
      "\u001b[34mTomato___Leaf_Mold\u001b[m\u001b[m/\n",
      "\u001b[34mTomato___Septoria_leaf_spot\u001b[m\u001b[m/\n",
      "\u001b[34mTomato___Spider_mites Two-spotted_spider_mite\u001b[m\u001b[m/\n",
      "\u001b[34mTomato___Target_Spot\u001b[m\u001b[m/\n",
      "\u001b[34mTomato___Tomato_Yellow_Leaf_Curl_Virus\u001b[m\u001b[m/\n",
      "\u001b[34mTomato___Tomato_mosaic_virus\u001b[m\u001b[m/\n",
      "\u001b[34mTomato___healthy\u001b[m\u001b[m/\n",
      "AppleCedarRust1.JPG         TomatoEarlyBlight1.JPG\n",
      "AppleCedarRust2.JPG         TomatoEarlyBlight2.JPG\n",
      "AppleCedarRust3.JPG         TomatoEarlyBlight3.JPG\n",
      "AppleCedarRust4.JPG         TomatoEarlyBlight4.JPG\n",
      "AppleScab1.JPG              TomatoEarlyBlight5.JPG\n",
      "AppleScab2.JPG              TomatoEarlyBlight6.JPG\n",
      "AppleScab3.JPG              TomatoHealthy1.JPG\n",
      "CornCommonRust1.JPG         TomatoHealthy2.JPG\n",
      "CornCommonRust2.JPG         TomatoHealthy3.JPG\n",
      "CornCommonRust3.JPG         TomatoHealthy4.JPG\n",
      "PotatoEarlyBlight1.JPG      TomatoYellowCurlVirus1.JPG\n",
      "PotatoEarlyBlight2.JPG      TomatoYellowCurlVirus2.JPG\n",
      "PotatoEarlyBlight3.JPG      TomatoYellowCurlVirus3.JPG\n",
      "PotatoEarlyBlight4.JPG      TomatoYellowCurlVirus4.JPG\n",
      "PotatoEarlyBlight5.JPG      TomatoYellowCurlVirus5.JPG\n",
      "PotatoHealthy1.JPG          TomatoYellowCurlVirus6.JPG\n",
      "PotatoHealthy2.JPG\n"
     ]
    }
   ],
   "source": [
    "%ls \"{train_path}\"\n",
    "%ls \"{val_path}\"\n",
    "%ls \"{test_path}\"\n"
   ]
  },
  {
   "cell_type": "code",
   "execution_count": 5,
   "id": "1337f65a",
   "metadata": {},
   "outputs": [],
   "source": [
    "import numpy as np\n",
    "import matplotlib.pyplot as plt\n",
    "\n",
    "import tensorflow as tf\n",
    "import os\n"
   ]
  },
  {
   "cell_type": "code",
   "execution_count": 6,
   "id": "a5f62af3",
   "metadata": {},
   "outputs": [
    {
     "name": "stdout",
     "output_type": "stream",
     "text": [
      "[PhysicalDevice(name='/physical_device:GPU:0', device_type='GPU')]\n"
     ]
    }
   ],
   "source": [
    "print(tf.config.list_physical_devices('GPU'))\n"
   ]
  },
  {
   "cell_type": "code",
   "execution_count": 7,
   "id": "ec33ccda",
   "metadata": {},
   "outputs": [
    {
     "name": "stdout",
     "output_type": "stream",
     "text": [
      "Found 70295 files belonging to 38 classes.\n"
     ]
    },
    {
     "name": "stderr",
     "output_type": "stream",
     "text": [
      "2025-07-10 14:58:07.288949: I metal_plugin/src/device/metal_device.cc:1154] Metal device set to: Apple M4 Pro\n",
      "2025-07-10 14:58:07.288978: I metal_plugin/src/device/metal_device.cc:296] systemMemory: 48.00 GB\n",
      "2025-07-10 14:58:07.288986: I metal_plugin/src/device/metal_device.cc:313] maxCacheSize: 18.00 GB\n",
      "2025-07-10 14:58:07.289013: I tensorflow/core/common_runtime/pluggable_device/pluggable_device_factory.cc:306] Could not identify NUMA node of platform GPU ID 0, defaulting to 0. Your kernel may not have been built with NUMA support.\n",
      "2025-07-10 14:58:07.289031: I tensorflow/core/common_runtime/pluggable_device/pluggable_device_factory.cc:272] Created TensorFlow device (/job:localhost/replica:0/task:0/device:GPU:0 with 0 MB memory) -> physical PluggableDevice (device: 0, name: METAL, pci bus id: <undefined>)\n"
     ]
    },
    {
     "name": "stdout",
     "output_type": "stream",
     "text": [
      "Found 17572 files belonging to 38 classes.\n"
     ]
    }
   ],
   "source": [
    "img_size = (128, 128)\n",
    "batch_size = 64\n",
    "\n",
    "train_ds = tf.keras.utils.image_dataset_from_directory(\n",
    "    train_path,\n",
    "    image_size=img_size,\n",
    "    batch_size=batch_size,\n",
    "    label_mode='categorical',\n",
    "    color_mode='rgb',\n",
    ")\n",
    "\n",
    "val_ds = tf.keras.utils.image_dataset_from_directory(\n",
    "    val_path,\n",
    "    image_size=img_size,\n",
    "    batch_size=batch_size,\n",
    "    label_mode='categorical',\n",
    "    color_mode='rgb',\n",
    ")\n"
   ]
  },
  {
   "cell_type": "code",
   "execution_count": null,
   "id": "6b78f2d0",
   "metadata": {},
   "outputs": [
    {
     "data": {
      "application/vnd.microsoft.datawrangler.viewer.v0+json": {
       "columns": [
        {
         "name": "index",
         "rawType": "int64",
         "type": "integer"
        },
        {
         "name": "0",
         "rawType": "object",
         "type": "string"
        }
       ],
       "ref": "3bc31288-068f-48fc-9492-241e21a17982",
       "rows": [
        [
         "0",
         "Apple___Apple_scab"
        ],
        [
         "1",
         "Apple___Black_rot"
        ],
        [
         "2",
         "Apple___Cedar_apple_rust"
        ],
        [
         "3",
         "Apple___healthy"
        ],
        [
         "4",
         "Blueberry___healthy"
        ],
        [
         "5",
         "Cherry_(including_sour)___Powdery_mildew"
        ],
        [
         "6",
         "Cherry_(including_sour)___healthy"
        ],
        [
         "7",
         "Corn_(maize)___Cercospora_leaf_spot Gray_leaf_spot"
        ],
        [
         "8",
         "Corn_(maize)___Common_rust_"
        ],
        [
         "9",
         "Corn_(maize)___Northern_Leaf_Blight"
        ],
        [
         "10",
         "Corn_(maize)___healthy"
        ],
        [
         "11",
         "Grape___Black_rot"
        ],
        [
         "12",
         "Grape___Esca_(Black_Measles)"
        ],
        [
         "13",
         "Grape___Leaf_blight_(Isariopsis_Leaf_Spot)"
        ],
        [
         "14",
         "Grape___healthy"
        ],
        [
         "15",
         "Orange___Haunglongbing_(Citrus_greening)"
        ],
        [
         "16",
         "Peach___Bacterial_spot"
        ],
        [
         "17",
         "Peach___healthy"
        ],
        [
         "18",
         "Pepper,_bell___Bacterial_spot"
        ],
        [
         "19",
         "Pepper,_bell___healthy"
        ],
        [
         "20",
         "Potato___Early_blight"
        ],
        [
         "21",
         "Potato___Late_blight"
        ],
        [
         "22",
         "Potato___healthy"
        ],
        [
         "23",
         "Raspberry___healthy"
        ],
        [
         "24",
         "Soybean___healthy"
        ],
        [
         "25",
         "Squash___Powdery_mildew"
        ],
        [
         "26",
         "Strawberry___Leaf_scorch"
        ],
        [
         "27",
         "Strawberry___healthy"
        ],
        [
         "28",
         "Tomato___Bacterial_spot"
        ],
        [
         "29",
         "Tomato___Early_blight"
        ],
        [
         "30",
         "Tomato___Late_blight"
        ],
        [
         "31",
         "Tomato___Leaf_Mold"
        ],
        [
         "32",
         "Tomato___Septoria_leaf_spot"
        ],
        [
         "33",
         "Tomato___Spider_mites Two-spotted_spider_mite"
        ],
        [
         "34",
         "Tomato___Target_Spot"
        ],
        [
         "35",
         "Tomato___Tomato_Yellow_Leaf_Curl_Virus"
        ],
        [
         "36",
         "Tomato___Tomato_mosaic_virus"
        ],
        [
         "37",
         "Tomato___healthy"
        ]
       ],
       "shape": {
        "columns": 1,
        "rows": 38
       }
      },
      "text/plain": [
       "['Apple___Apple_scab',\n",
       " 'Apple___Black_rot',\n",
       " 'Apple___Cedar_apple_rust',\n",
       " 'Apple___healthy',\n",
       " 'Blueberry___healthy',\n",
       " 'Cherry_(including_sour)___Powdery_mildew',\n",
       " 'Cherry_(including_sour)___healthy',\n",
       " 'Corn_(maize)___Cercospora_leaf_spot Gray_leaf_spot',\n",
       " 'Corn_(maize)___Common_rust_',\n",
       " 'Corn_(maize)___Northern_Leaf_Blight',\n",
       " 'Corn_(maize)___healthy',\n",
       " 'Grape___Black_rot',\n",
       " 'Grape___Esca_(Black_Measles)',\n",
       " 'Grape___Leaf_blight_(Isariopsis_Leaf_Spot)',\n",
       " 'Grape___healthy',\n",
       " 'Orange___Haunglongbing_(Citrus_greening)',\n",
       " 'Peach___Bacterial_spot',\n",
       " 'Peach___healthy',\n",
       " 'Pepper,_bell___Bacterial_spot',\n",
       " 'Pepper,_bell___healthy',\n",
       " 'Potato___Early_blight',\n",
       " 'Potato___Late_blight',\n",
       " 'Potato___healthy',\n",
       " 'Raspberry___healthy',\n",
       " 'Soybean___healthy',\n",
       " 'Squash___Powdery_mildew',\n",
       " 'Strawberry___Leaf_scorch',\n",
       " 'Strawberry___healthy',\n",
       " 'Tomato___Bacterial_spot',\n",
       " 'Tomato___Early_blight',\n",
       " 'Tomato___Late_blight',\n",
       " 'Tomato___Leaf_Mold',\n",
       " 'Tomato___Septoria_leaf_spot',\n",
       " 'Tomato___Spider_mites Two-spotted_spider_mite',\n",
       " 'Tomato___Target_Spot',\n",
       " 'Tomato___Tomato_Yellow_Leaf_Curl_Virus',\n",
       " 'Tomato___Tomato_mosaic_virus',\n",
       " 'Tomato___healthy']"
      ]
     },
     "execution_count": 18,
     "metadata": {},
     "output_type": "execute_result"
    }
   ],
   "source": [
    "class_names = train_ds.class_names\n",
    "class_names.sort()\n",
    "class_names\n"
   ]
  },
  {
   "cell_type": "code",
   "execution_count": 10,
   "id": "98514b51",
   "metadata": {},
   "outputs": [],
   "source": [
    "# ipotesi modello\n",
    "# convolutional 2d\n",
    "# relu activation\n",
    "# maxpooling forse?\n"
   ]
  },
  {
   "cell_type": "code",
   "execution_count": null,
   "id": "cba012ea",
   "metadata": {},
   "outputs": [
    {
     "name": "stdout",
     "output_type": "stream",
     "text": [
      "Model: \"sequential\"\n",
      "_________________________________________________________________\n",
      " Layer (type)                Output Shape              Param #   \n",
      "=================================================================\n",
      " rescaling (Rescaling)       (None, 128, 128, 3)       0         \n",
      "                                                                 \n",
      " conv2d (Conv2D)             (None, 128, 128, 16)      448       \n",
      "                                                                 \n",
      " dropout (Dropout)           (None, 128, 128, 16)      0         \n",
      "                                                                 \n",
      " max_pooling2d (MaxPooling2  (None, 64, 64, 16)        0         \n",
      " D)                                                              \n",
      "                                                                 \n",
      " conv2d_1 (Conv2D)           (None, 64, 64, 32)        4640      \n",
      "                                                                 \n",
      " max_pooling2d_1 (MaxPoolin  (None, 32, 32, 32)        0         \n",
      " g2D)                                                            \n",
      "                                                                 \n",
      " global_average_pooling2d (  (None, 32)                0         \n",
      " GlobalAveragePooling2D)                                         \n",
      "                                                                 \n",
      " dense (Dense)               (None, 128)               4224      \n",
      "                                                                 \n",
      " dense_1 (Dense)             (None, 38)                4902      \n",
      "                                                                 \n",
      "=================================================================\n",
      "Total params: 14214 (55.52 KB)\n",
      "Trainable params: 14214 (55.52 KB)\n",
      "Non-trainable params: 0 (0.00 Byte)\n",
      "_________________________________________________________________\n"
     ]
    }
   ],
   "source": [
    "from keras.models import Sequential, Model\n",
    "from keras.layers import Activation, BatchNormalization, Dense, Conv2D, MaxPooling2D, Dropout, Flatten, GlobalAveragePooling2D, ReLU, Rescaling\n",
    "from keras.optimizers.legacy import Adam, SGD\n",
    "from keras.losses import CategoricalCrossentropy\n",
    "\n",
    "from keras.metrics import CategoricalAccuracy, Precision, Recall\n",
    "from keras.callbacks import EarlyStopping, ModelCheckpoint, ReduceLROnPlateau\n",
    "\n",
    "def simple_cnn(input_shape=(img_size[0], img_size[1], 3), num_classes=38):\n",
    "    model = Sequential([\n",
    "        Rescaling(1./255, input_shape=input_shape),\n",
    "        Conv2D(16, (3, 3), activation='relu', padding='same'),\n",
    "        Dropout(0.2),\n",
    "        MaxPooling2D((2, 2)),\n",
    "        Conv2D(32, (3, 3), activation='relu', padding='same'),\n",
    "        MaxPooling2D((2, 2)),\n",
    "        Conv2D(64, (3, 3), activation='relu', padding='same'),\n",
    "        MaxPooling2D((2, 2)),\n",
    "        Flatten(),\n",
    "        Dense(128, activation='relu'),\n",
    "        Dense(num_classes, activation='softmax')\n",
    "    ])\n",
    "    return model\n",
    "\n",
    "model = simple_cnn()\n",
    "model.summary()\n"
   ]
  },
  {
   "cell_type": "code",
   "execution_count": 12,
   "id": "f783e26d",
   "metadata": {},
   "outputs": [],
   "source": [
    "optimizer = Adam(learning_rate=0.0002)\n",
    "# optimizer = SGD(learning_rate=0.05, momentum=0.9)\n",
    "model.compile(\n",
    "    optimizer=optimizer,\n",
    "    loss=CategoricalCrossentropy(),\n",
    "    metrics=['accuracy']\n",
    ")\n"
   ]
  },
  {
   "cell_type": "code",
   "execution_count": 13,
   "id": "5399e03e",
   "metadata": {},
   "outputs": [
    {
     "name": "stdout",
     "output_type": "stream",
     "text": [
      "Epoch 1/30\n",
      "   1/1099 [..............................] - ETA: 5:49 - loss: 3.6503 - accuracy: 0.0781"
     ]
    },
    {
     "name": "stderr",
     "output_type": "stream",
     "text": [
      "2025-07-10 14:58:35.211539: I tensorflow/core/grappler/optimizers/custom_graph_optimizer_registry.cc:117] Plugin optimizer for device_type GPU is enabled.\n"
     ]
    },
    {
     "name": "stdout",
     "output_type": "stream",
     "text": [
      "1099/1099 [==============================] - 23s 21ms/step - loss: 3.3178 - accuracy: 0.1083 - val_loss: 3.0706 - val_accuracy: 0.1701\n",
      "Epoch 2/30\n",
      "1099/1099 [==============================] - 23s 21ms/step - loss: 2.8683 - accuracy: 0.2244 - val_loss: 2.7984 - val_accuracy: 0.2593\n",
      "Epoch 3/30\n",
      "1099/1099 [==============================] - 23s 21ms/step - loss: 2.6138 - accuracy: 0.2979 - val_loss: 2.5803 - val_accuracy: 0.3092\n",
      "Epoch 4/30\n",
      "1099/1099 [==============================] - 24s 21ms/step - loss: 2.4207 - accuracy: 0.3462 - val_loss: 2.4026 - val_accuracy: 0.3549\n",
      "Epoch 5/30\n",
      "1099/1099 [==============================] - 23s 21ms/step - loss: 2.2750 - accuracy: 0.3781 - val_loss: 2.2729 - val_accuracy: 0.3770\n",
      "Epoch 6/30\n",
      "1099/1099 [==============================] - 23s 21ms/step - loss: 2.1471 - accuracy: 0.4054 - val_loss: 2.1697 - val_accuracy: 0.4059\n",
      "Epoch 7/30\n",
      "1099/1099 [==============================] - 23s 21ms/step - loss: 2.0524 - accuracy: 0.4271 - val_loss: 2.0855 - val_accuracy: 0.4254\n",
      "Epoch 8/30\n",
      "1099/1099 [==============================] - 23s 21ms/step - loss: 1.9783 - accuracy: 0.4465 - val_loss: 2.0173 - val_accuracy: 0.4438\n",
      "Epoch 9/30\n",
      "1099/1099 [==============================] - 23s 21ms/step - loss: 1.9117 - accuracy: 0.4646 - val_loss: 1.9710 - val_accuracy: 0.4564\n",
      "Epoch 10/30\n",
      "1099/1099 [==============================] - 23s 21ms/step - loss: 1.8477 - accuracy: 0.4843 - val_loss: 1.8818 - val_accuracy: 0.4800\n",
      "Epoch 11/30\n",
      "1099/1099 [==============================] - 23s 21ms/step - loss: 1.7822 - accuracy: 0.5026 - val_loss: 1.8243 - val_accuracy: 0.4971\n",
      "Epoch 12/30\n",
      "1099/1099 [==============================] - 23s 21ms/step - loss: 1.7204 - accuracy: 0.5191 - val_loss: 1.7872 - val_accuracy: 0.5056\n",
      "Epoch 13/30\n",
      "1099/1099 [==============================] - 23s 21ms/step - loss: 1.6685 - accuracy: 0.5329 - val_loss: 1.7389 - val_accuracy: 0.5153\n",
      "Epoch 14/30\n",
      "1099/1099 [==============================] - 24s 22ms/step - loss: 1.6186 - accuracy: 0.5446 - val_loss: 1.6676 - val_accuracy: 0.5403\n",
      "Epoch 15/30\n",
      "1099/1099 [==============================] - 24s 21ms/step - loss: 1.5786 - accuracy: 0.5557 - val_loss: 1.6260 - val_accuracy: 0.5503\n",
      "Epoch 16/30\n",
      "1099/1099 [==============================] - 23s 21ms/step - loss: 1.5440 - accuracy: 0.5628 - val_loss: 1.5885 - val_accuracy: 0.5579\n",
      "Epoch 17/30\n",
      "1099/1099 [==============================] - 24s 21ms/step - loss: 1.5161 - accuracy: 0.5673 - val_loss: 1.5970 - val_accuracy: 0.5442\n",
      "Epoch 18/30\n",
      "1099/1099 [==============================] - 23s 21ms/step - loss: 1.4943 - accuracy: 0.5721 - val_loss: 1.5458 - val_accuracy: 0.5622\n",
      "Epoch 19/30\n",
      "1099/1099 [==============================] - 23s 21ms/step - loss: 1.4746 - accuracy: 0.5756 - val_loss: 1.5250 - val_accuracy: 0.5676\n",
      "Epoch 20/30\n",
      "1099/1099 [==============================] - 23s 21ms/step - loss: 1.4554 - accuracy: 0.5802 - val_loss: 1.5155 - val_accuracy: 0.5674\n",
      "Epoch 21/30\n",
      "1099/1099 [==============================] - 23s 21ms/step - loss: 1.4425 - accuracy: 0.5823 - val_loss: 1.4841 - val_accuracy: 0.5746\n",
      "Epoch 22/30\n",
      "1099/1099 [==============================] - 23s 21ms/step - loss: 1.4269 - accuracy: 0.5842 - val_loss: 1.5034 - val_accuracy: 0.5668\n",
      "Epoch 23/30\n",
      "1099/1099 [==============================] - 23s 21ms/step - loss: 1.4149 - accuracy: 0.5862 - val_loss: 1.4811 - val_accuracy: 0.5728\n",
      "Epoch 24/30\n",
      "1099/1099 [==============================] - 23s 21ms/step - loss: 1.4054 - accuracy: 0.5895 - val_loss: 1.4371 - val_accuracy: 0.5903\n",
      "Epoch 25/30\n",
      "1099/1099 [==============================] - 23s 21ms/step - loss: 1.3965 - accuracy: 0.5931 - val_loss: 1.4440 - val_accuracy: 0.5819\n",
      "Epoch 26/30\n",
      "1099/1099 [==============================] - 23s 21ms/step - loss: 1.3902 - accuracy: 0.5933 - val_loss: 1.4195 - val_accuracy: 0.5907\n",
      "Epoch 27/30\n",
      "1099/1099 [==============================] - 23s 21ms/step - loss: 1.3826 - accuracy: 0.5962 - val_loss: 1.4039 - val_accuracy: 0.5970\n",
      "Epoch 28/30\n",
      "1099/1099 [==============================] - 23s 21ms/step - loss: 1.3765 - accuracy: 0.5968 - val_loss: 1.4202 - val_accuracy: 0.5891\n",
      "Epoch 29/30\n",
      "1099/1099 [==============================] - 24s 21ms/step - loss: 1.3719 - accuracy: 0.5996 - val_loss: 1.4148 - val_accuracy: 0.5831\n",
      "Epoch 30/30\n",
      "1099/1099 [==============================] - 24s 22ms/step - loss: 1.3675 - accuracy: 0.6003 - val_loss: 1.4060 - val_accuracy: 0.5849\n"
     ]
    }
   ],
   "source": [
    "n_epochs = 30\n",
    "\n",
    "history = model.fit(\n",
    "    train_ds,\n",
    "    validation_data=val_ds,\n",
    "    epochs=n_epochs,\n",
    "    callbacks=[\n",
    "        EarlyStopping(monitor='val_accuracy', patience=3, restore_best_weights=True),\n",
    "        # ModelCheckpoint('best_model.h5', monitor='val_loss', save_best_only=True),\n",
    "        # ReduceLROnPlateau(monitor='val_loss', factor=0.2, patience=2)\n",
    "    ]\n",
    ")\n"
   ]
  },
  {
   "cell_type": "code",
   "execution_count": 14,
   "id": "1d786741",
   "metadata": {},
   "outputs": [
    {
     "data": {
      "image/png": "[encoded data removed]",
      "text/plain": [
       "<Figure size 1200x600 with 2 Axes>"
      ]
     },
     "metadata": {},
     "output_type": "display_data"
    }
   ],
   "source": [
    "# plot training history\n",
    "plt.figure(figsize=(12, 6))\n",
    "plt.subplot(1, 2, 1)\n",
    "plt.plot(history.history['loss'], label='Training Loss')\n",
    "plt.plot(history.history['val_loss'], label='Validation Loss')\n",
    "plt.title('Model Loss')\n",
    "plt.xlabel('Epochs')\n",
    "plt.ylabel('Loss')\n",
    "plt.legend()\n",
    "plt.subplot(1, 2, 2)\n",
    "plt.plot(history.history['accuracy'], label='Training Accuracy')\n",
    "plt.plot(history.history['val_accuracy'], label='Validation Accuracy')\n",
    "plt.title('Model Accuracy')\n",
    "plt.xlabel('Epochs')\n",
    "plt.ylabel('Accuracy')\n",
    "plt.legend()\n",
    "plt.tight_layout()\n",
    "plt.show()\n"
   ]
  },
  {
   "cell_type": "code",
   "execution_count": null,
   "id": "3ae91cf1",
   "metadata": {},
   "outputs": [
    {
     "name": "stdout",
     "output_type": "stream",
     "text": [
      "1/1 [==============================] - 0s 55ms/step\n",
      "Image: AppleScab3.JPG -> Predicted class: Peach___healthy\n",
      "1/1 [==============================] - 0s 9ms/step\n",
      "Image: TomatoEarlyBlight2.JPG -> Predicted class: Peach___healthy\n",
      "1/1 [==============================] - 0s 8ms/step\n",
      "Image: TomatoEarlyBlight3.JPG -> Predicted class: Peach___healthy\n",
      "1/1 [==============================] - 0s 8ms/step\n",
      "Image: PotatoHealthy1.JPG -> Predicted class: Peach___healthy\n",
      "1/1 [==============================] - 0s 8ms/step\n",
      "Image: AppleScab2.JPG -> Predicted class: Peach___healthy\n",
      "1/1 [==============================] - 0s 8ms/step\n",
      "Image: TomatoEarlyBlight1.JPG -> Predicted class: Peach___healthy\n",
      "1/1 [==============================] - 0s 8ms/step\n",
      "Image: PotatoHealthy2.JPG -> Predicted class: Peach___healthy\n",
      "1/1 [==============================] - 0s 8ms/step\n",
      "Image: AppleScab1.JPG -> Predicted class: Peach___healthy\n",
      "1/1 [==============================] - 0s 9ms/step\n",
      "Image: TomatoEarlyBlight4.JPG -> Predicted class: Peach___healthy\n",
      "1/1 [==============================] - 0s 8ms/step\n",
      "Image: TomatoEarlyBlight5.JPG -> Predicted class: Peach___healthy\n",
      "1/1 [==============================] - 0s 8ms/step\n",
      "Image: TomatoEarlyBlight6.JPG -> Predicted class: Peach___healthy\n",
      "1/1 [==============================] - 0s 8ms/step\n",
      "Image: PotatoEarlyBlight4.JPG -> Predicted class: Peach___healthy\n",
      "1/1 [==============================] - 0s 21ms/step\n",
      "Image: PotatoEarlyBlight5.JPG -> Predicted class: Peach___healthy\n",
      "1/1 [==============================] - 0s 8ms/step\n",
      "Image: PotatoEarlyBlight2.JPG -> Predicted class: Peach___healthy\n",
      "1/1 [==============================] - 0s 9ms/step\n",
      "Image: PotatoEarlyBlight3.JPG -> Predicted class: Peach___healthy\n",
      "1/1 [==============================] - 0s 8ms/step\n",
      "Image: PotatoEarlyBlight1.JPG -> Predicted class: Peach___healthy\n",
      "1/1 [==============================] - 0s 9ms/step\n",
      "Image: TomatoYellowCurlVirus2.JPG -> Predicted class: Peach___healthy\n",
      "1/1 [==============================] - 0s 8ms/step\n",
      "Image: TomatoYellowCurlVirus3.JPG -> Predicted class: Peach___healthy\n",
      "1/1 [==============================] - 0s 8ms/step\n",
      "Image: TomatoYellowCurlVirus1.JPG -> Predicted class: Peach___healthy\n",
      "1/1 [==============================] - 0s 9ms/step\n",
      "Image: TomatoHealthy4.JPG -> Predicted class: Peach___healthy\n",
      "1/1 [==============================] - 0s 8ms/step\n",
      "Image: TomatoYellowCurlVirus4.JPG -> Predicted class: Peach___healthy\n",
      "1/1 [==============================] - 0s 8ms/step\n",
      "Image: TomatoHealthy1.JPG -> Predicted class: Peach___healthy\n",
      "1/1 [==============================] - 0s 8ms/step\n",
      "Image: TomatoYellowCurlVirus5.JPG -> Predicted class: Peach___healthy\n",
      "1/1 [==============================] - 0s 10ms/step\n",
      "Image: TomatoHealthy3.JPG -> Predicted class: Peach___healthy\n",
      "1/1 [==============================] - 0s 9ms/step\n",
      "Image: TomatoHealthy2.JPG -> Predicted class: Peach___healthy\n",
      "1/1 [==============================] - 0s 9ms/step\n",
      "Image: TomatoYellowCurlVirus6.JPG -> Predicted class: Peach___healthy\n",
      "1/1 [==============================] - 0s 10ms/step\n",
      "Image: AppleCedarRust2.JPG -> Predicted class: Peach___healthy\n",
      "1/1 [==============================] - 0s 8ms/step\n",
      "Image: CornCommonRust1.JPG -> Predicted class: Peach___healthy\n",
      "1/1 [==============================] - 0s 9ms/step\n",
      "Image: AppleCedarRust3.JPG -> Predicted class: Peach___healthy\n",
      "1/1 [==============================] - 0s 9ms/step\n",
      "Image: AppleCedarRust1.JPG -> Predicted class: Peach___healthy\n",
      "1/1 [==============================] - 0s 8ms/step\n",
      "Image: CornCommonRust2.JPG -> Predicted class: Peach___healthy\n",
      "1/1 [==============================] - 0s 8ms/step\n",
      "Image: CornCommonRust3.JPG -> Predicted class: Peach___healthy\n",
      "1/1 [==============================] - 0s 8ms/step\n",
      "Image: AppleCedarRust4.JPG -> Predicted class: Peach___healthy\n"
     ]
    }
   ],
   "source": [
    "class_names = train_ds.class_names  # Use your training set's class names\n",
    "\n",
    "test_images = [f for f in os.listdir(test_path) if f.lower().endswith(('.png', '.jpg', '.jpeg'))]\n",
    "\n",
    "for fname in test_images:\n",
    "    img = tf.keras.utils.load_img(os.path.join(test_path, fname), target_size=img_size)\n",
    "    img_array = tf.keras.utils.img_to_array(img)\n",
    "    img_array = np.expand_dims(img_array, axis=0)\n",
    "    img_array = img_array / 255.0\n",
    "\n",
    "    preds = model.predict(img_array)\n",
    "    pred_idx = np.argmax(preds, axis=1)[0]\n",
    "    pred_class = class_names[pred_idx]\n",
    "\n",
    "    print(f\"Image: {fname} -> Predicted class: {pred_class}\")\n"
   ]
  }
 ],
 "metadata": {
  "kernelspec": {
   "display_name": "daml",
   "language": "python",
   "name": "python3"
  },
  "language_info": {
   "codemirror_mode": {
    "name": "ipython",
    "version": 3
   },
   "file_extension": ".py",
   "mimetype": "text/x-python",
   "name": "python",
   "nbconvert_exporter": "python",
   "pygments_lexer": "ipython3",
   "version": "3.10.17"
  }
 },
 "nbformat": 4,
 "nbformat_minor": 5
}
