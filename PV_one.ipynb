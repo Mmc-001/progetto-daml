{
 "cells": [
  {
   "cell_type": "markdown",
   "id": "3b018060-4544-4794-bc47-ff3e72e78a82",
   "metadata": {},
   "source": [
    "# Progetto d'esame di Data Analysis in Experimental Physics with Machine Learning - Attempt n.2"
   ]
  },
  {
   "cell_type": "markdown",
   "id": "a3aa247f-f9ba-4936-8624-db81dbb17f81",
   "metadata": {},
   "source": [
    "Dataset ipotesi: https://github.com/spMohanty/PlantVillage-Dataset/tree/master"
   ]
  },
  {
   "cell_type": "code",
   "execution_count": 1,
   "id": "c2ca77a0-24b8-4c70-86d6-2e68e8af1d4a",
   "metadata": {},
   "outputs": [],
   "source": [
    "import tensorflow as tf\n",
    "import matplotlib.pyplot as plt"
   ]
  },
  {
   "cell_type": "code",
   "execution_count": 2,
   "id": "89ead05e-f9e4-4182-b7ae-93b5098a400a",
   "metadata": {},
   "outputs": [
    {
     "name": "stderr",
     "output_type": "stream",
     "text": [
      "fatal: destination path 'PlantVillage-Dataset' already exists and is not an empty directory.\n"
     ]
    }
   ],
   "source": [
    "!git clone https://github.com/spMohanty/PlantVillage-Dataset.git"
   ]
  },
  {
   "cell_type": "code",
   "execution_count": 3,
   "id": "0a51997b-191d-4cd0-906d-0b340893c6d8",
   "metadata": {
    "collapsed": true,
    "jupyter": {
     "outputs_hidden": true
    }
   },
   "outputs": [
    {
     "name": "stdout",
     "output_type": "stream",
     "text": [
      " Volume in drive C is OS\n",
      " Volume Serial Number is 90BA-7656\n",
      "\n",
      " Directory of C:\\Users\\Itsashashi\\progetto-daml\\PlantVillage-Dataset\\raw\\color\n",
      "\n",
      "13/07/2025  16:35    <DIR>          .\n",
      "13/07/2025  16:36    <DIR>          ..\n",
      "13/07/2025  16:34    <DIR>          Apple___Apple_scab\n",
      "13/07/2025  16:34    <DIR>          Apple___Black_rot\n",
      "13/07/2025  16:34    <DIR>          Apple___Cedar_apple_rust\n",
      "13/07/2025  16:34    <DIR>          Apple___healthy\n",
      "13/07/2025  16:34    <DIR>          Blueberry___healthy\n",
      "13/07/2025  16:34    <DIR>          Cherry_(including_sour)___healthy\n",
      "13/07/2025  16:34    <DIR>          Cherry_(including_sour)___Powdery_mildew\n",
      "13/07/2025  16:34    <DIR>          Corn_(maize)___Cercospora_leaf_spot Gray_leaf_spot\n",
      "13/07/2025  16:34    <DIR>          Corn_(maize)___Common_rust_\n",
      "13/07/2025  16:34    <DIR>          Corn_(maize)___healthy\n",
      "13/07/2025  16:34    <DIR>          Corn_(maize)___Northern_Leaf_Blight\n",
      "13/07/2025  16:34    <DIR>          Grape___Black_rot\n",
      "13/07/2025  16:34    <DIR>          Grape___Esca_(Black_Measles)\n",
      "13/07/2025  16:34    <DIR>          Grape___healthy\n",
      "13/07/2025  16:34    <DIR>          Grape___Leaf_blight_(Isariopsis_Leaf_Spot)\n",
      "13/07/2025  16:34    <DIR>          Orange___Haunglongbing_(Citrus_greening)\n",
      "13/07/2025  16:35    <DIR>          Peach___Bacterial_spot\n",
      "13/07/2025  16:35    <DIR>          Peach___healthy\n",
      "13/07/2025  16:35    <DIR>          Pepper,_bell___Bacterial_spot\n",
      "13/07/2025  16:35    <DIR>          Pepper,_bell___healthy\n",
      "13/07/2025  16:35    <DIR>          Potato___Early_blight\n",
      "13/07/2025  16:35    <DIR>          Potato___healthy\n",
      "13/07/2025  16:35    <DIR>          Potato___Late_blight\n",
      "13/07/2025  16:35    <DIR>          Raspberry___healthy\n",
      "13/07/2025  16:35    <DIR>          Soybean___healthy\n",
      "13/07/2025  16:35    <DIR>          Squash___Powdery_mildew\n",
      "13/07/2025  16:35    <DIR>          Strawberry___healthy\n",
      "13/07/2025  16:35    <DIR>          Strawberry___Leaf_scorch\n",
      "13/07/2025  16:35    <DIR>          Tomato___Bacterial_spot\n",
      "13/07/2025  16:35    <DIR>          Tomato___Early_blight\n",
      "13/07/2025  16:35    <DIR>          Tomato___healthy\n",
      "13/07/2025  16:35    <DIR>          Tomato___Late_blight\n",
      "13/07/2025  16:35    <DIR>          Tomato___Leaf_Mold\n",
      "13/07/2025  16:35    <DIR>          Tomato___Septoria_leaf_spot\n",
      "13/07/2025  16:35    <DIR>          Tomato___Spider_mites Two-spotted_spider_mite\n",
      "13/07/2025  16:35    <DIR>          Tomato___Target_Spot\n",
      "13/07/2025  16:35    <DIR>          Tomato___Tomato_mosaic_virus\n",
      "13/07/2025  16:35    <DIR>          Tomato___Tomato_Yellow_Leaf_Curl_Virus\n",
      "               0 File(s)              0 bytes\n",
      "              40 Dir(s)  56,374,689,792 bytes free\n"
     ]
    }
   ],
   "source": [
    "!dir PlantVillage-Dataset\\raw\\color"
   ]
  },
  {
   "cell_type": "markdown",
   "id": "9c21e4b3-760a-480e-adb9-8ca4e0846639",
   "metadata": {},
   "source": [
    "### Dataset splitting\n",
    "Since the dataset employed is quite large, it was split into testing, validation and training set using the 70/15/15 ratio"
   ]
  },
  {
   "cell_type": "code",
   "execution_count": 4,
   "id": "f1b540c0-0234-4a8b-8761-51a89b8e724b",
   "metadata": {},
   "outputs": [
    {
     "name": "stdout",
     "output_type": "stream",
     "text": [
      "Requirement already satisfied: split-folders in c:\\users\\itsashashi\\miniconda3\\envs\\tf-env\\lib\\site-packages (0.5.1)\n",
      "Note: you may need to restart the kernel to use updated packages.\n"
     ]
    }
   ],
   "source": [
    "%pip install split-folders"
   ]
  },
  {
   "cell_type": "code",
   "execution_count": 5,
   "id": "fbfdd1ac-7e10-4cac-9613-d022b15f356b",
   "metadata": {},
   "outputs": [],
   "source": [
    "import splitfolders"
   ]
  },
  {
   "cell_type": "code",
   "execution_count": 6,
   "id": "230cd2f3-ac4a-4ad7-aa6f-204264238a8d",
   "metadata": {},
   "outputs": [
    {
     "name": "stderr",
     "output_type": "stream",
     "text": [
      "Copying files: 54305 files [02:21, 385.01 files/s]\n"
     ]
    }
   ],
   "source": [
    "splitfolders.ratio(\n",
    "    \"PlantVillage-Dataset/raw/color\",       # Input folder\n",
    "    output= \"PlantVillage-Split\",        # Output folder\n",
    "    seed=1337,                          # Reproducible split\n",
    "    ratio=(.7, .15, .15)                  # Train, val, test\n",
    ")"
   ]
  },
  {
   "cell_type": "code",
   "execution_count": 8,
   "id": "00432132-2fea-4139-a8e2-b4a2098bf618",
   "metadata": {},
   "outputs": [
    {
     "name": "stdout",
     "output_type": "stream",
     "text": [
      "Current directory: C:\\Users\\Itsashashi\\progetto-daml\n",
      "C:\\Users\\Itsashashi\\progetto-daml\\PlantVillage-Split\n"
     ]
    },
    {
     "data": {
      "text/plain": [
       "['test', 'train', 'val']"
      ]
     },
     "execution_count": 8,
     "metadata": {},
     "output_type": "execute_result"
    }
   ],
   "source": [
    "import os\n",
    "print(\"Current directory:\", os.getcwd())\n",
    "os.path.exists(\"PlantVillage-Split\")\n",
    "s_path = os.path.abspath(\"PlantVillage-Split\")\n",
    "print(s_path)\n",
    "os.listdir(\"PlantVillage-Split\")"
   ]
  },
  {
   "cell_type": "code",
   "execution_count": 9,
   "id": "78e1c8fc-23df-4b9e-9cc2-0923d494c582",
   "metadata": {},
   "outputs": [],
   "source": [
    "train_path = s_path + \"/train\"\n",
    "val_path = s_path + \"/val\"\n",
    "test_path = s_path + \"/test\""
   ]
  },
  {
   "cell_type": "code",
   "execution_count": 10,
   "id": "73ae92c3-fb8a-4263-849e-f6d91aa007b6",
   "metadata": {},
   "outputs": [
    {
     "name": "stdout",
     "output_type": "stream",
     "text": [
      "Train: 37995\n",
      "Validation: 8129\n",
      "Test: 8179\n"
     ]
    }
   ],
   "source": [
    "import glob\n",
    "\n",
    "train_imgs = glob.glob(\"PlantVillage-Split/train/**/*.jpg\", recursive=True)\n",
    "val_imgs = glob.glob(\"PlantVillage-Split/val/**/*.jpg\", recursive=True)\n",
    "test_imgs = glob.glob(\"PlantVillage-Split/test/**/*.jpg\", recursive=True)\n",
    "\n",
    "print(\"Train:\", len(train_imgs))\n",
    "print(\"Validation:\", len(val_imgs))\n",
    "print(\"Test:\", len(test_imgs))"
   ]
  },
  {
   "cell_type": "code",
   "execution_count": 11,
   "id": "aab678f8-b01d-46b8-8117-25396d2a9af8",
   "metadata": {},
   "outputs": [],
   "source": [
    "import tensorflow as tf\n",
    "from tensorflow.keras.models import Sequential\n",
    "from tensorflow.keras import layers, models"
   ]
  },
  {
   "cell_type": "code",
   "execution_count": 12,
   "id": "e289d392-0e60-4871-b590-1eceb22b8d17",
   "metadata": {},
   "outputs": [
    {
     "name": "stdout",
     "output_type": "stream",
     "text": [
      "Found 37997 files belonging to 38 classes.\n",
      "Found 8129 files belonging to 38 classes.\n",
      "Found 8179 files belonging to 38 classes.\n"
     ]
    },
    {
     "data": {
      "text/plain": [
       "<_PrefetchDataset element_spec=(TensorSpec(shape=(None, 256, 256, 3), dtype=tf.float32, name=None), TensorSpec(shape=(None, 38), dtype=tf.float32, name=None))>"
      ]
     },
     "execution_count": 12,
     "metadata": {},
     "output_type": "execute_result"
    }
   ],
   "source": [
    "img_size = (256, 256)\n",
    "batch_size = 64\n",
    "\n",
    "train_ds = tf.keras.utils.image_dataset_from_directory(\n",
    "    train_path,\n",
    "    image_size=img_size,\n",
    "    batch_size=batch_size,\n",
    "    label_mode='categorical',\n",
    "    color_mode= \"rgb\"\n",
    ")\n",
    "\n",
    "val_ds = tf.keras.utils.image_dataset_from_directory(\n",
    "    val_path,\n",
    "    image_size=img_size,\n",
    "    batch_size=batch_size,\n",
    "    label_mode='categorical',\n",
    "    color_mode= \"rgb\"\n",
    "\n",
    ")\n",
    "\n",
    "test_ds = tf.keras.utils.image_dataset_from_directory(\n",
    "    test_path,\n",
    "    image_size=img_size,\n",
    "    batch_size=batch_size,\n",
    "    label_mode='categorical',\n",
    "    color_mode= \"rgb\"\n",
    "\n",
    ")\n",
    "\n",
    "test_ds"
   ]
  },
  {
   "cell_type": "markdown",
   "id": "00e2bf9a-0461-454c-90ba-92a5254d566a",
   "metadata": {},
   "source": [
    "### MODEL #1"
   ]
  },
  {
   "cell_type": "code",
   "execution_count": 14,
   "id": "180fda45-4f4f-4505-bc7c-2c707676372c",
   "metadata": {},
   "outputs": [
    {
     "name": "stdout",
     "output_type": "stream",
     "text": [
      "38\n"
     ]
    }
   ],
   "source": [
    "# Get number of classes from dataset\n",
    "num_classes = len(train_ds.class_names)\n",
    "print(num_classes)"
   ]
  },
  {
   "cell_type": "code",
   "execution_count": 17,
   "id": "d3bad507-e5f0-4c14-b6d6-0cf9dd279204",
   "metadata": {},
   "outputs": [],
   "source": [
    "# Define the model\n",
    "model = models.Sequential([\n",
    "    layers.Input(shape=(256, 256, 3)),\n",
    "    layers.Rescaling(1./255),\n",
    "    \n",
    "    layers.Conv2D(32, (3, 3), activation='relu'),\n",
    "    layers.MaxPooling2D(),\n",
    "\n",
    "    layers.Conv2D(64, (3, 3), activation='relu'),\n",
    "    layers.MaxPooling2D(),\n",
    "\n",
    "    layers.Conv2D(128, (3, 3), activation='relu'),\n",
    "    layers.MaxPooling2D(),\n",
    "\n",
    "    layers.Flatten(),\n",
    "    layers.Dense(64, activation='relu'),\n",
    "    layers.Dropout(0.5),  # helps prevent overfitting\n",
    "    layers.Dense(num_classes, activation='softmax')\n",
    "])"
   ]
  },
  {
   "cell_type": "code",
   "execution_count": 18,
   "id": "a97069cc-94cd-4639-835e-eadc99788820",
   "metadata": {},
   "outputs": [],
   "source": [
    "early_stop = tf.keras.callbacks.EarlyStopping(\n",
    "    monitor='val_loss',\n",
    "    patience=3,\n",
    "    restore_best_weights=True\n",
    ")"
   ]
  },
  {
   "cell_type": "code",
   "execution_count": 19,
   "id": "fbb4f759-eb1a-4247-931e-592b0116ad57",
   "metadata": {},
   "outputs": [],
   "source": [
    "# Compile the model\n",
    "model.compile(\n",
    "    optimizer='adam',\n",
    "    loss='categorical_crossentropy',\n",
    "    metrics=['accuracy']\n",
    ")"
   ]
  },
  {
   "cell_type": "code",
   "execution_count": 20,
   "id": "9bbbc27a-2e7c-49bb-8b72-8d544b4483bb",
   "metadata": {},
   "outputs": [
    {
     "name": "stdout",
     "output_type": "stream",
     "text": [
      "Epoch 1/4\n",
      "\u001b[1m594/594\u001b[0m \u001b[32m━━━━━━━━━━━━━━━━━━━━\u001b[0m\u001b[37m\u001b[0m \u001b[1m1765s\u001b[0m 3s/step - accuracy: 0.2324 - loss: 3.0008 - val_accuracy: 0.6306 - val_loss: 1.3547\n",
      "Epoch 2/4\n",
      "\u001b[1m594/594\u001b[0m \u001b[32m━━━━━━━━━━━━━━━━━━━━\u001b[0m\u001b[37m\u001b[0m \u001b[1m1892s\u001b[0m 3s/step - accuracy: 0.5033 - loss: 1.7004 - val_accuracy: 0.7641 - val_loss: 0.7996\n",
      "Epoch 3/4\n",
      "\u001b[1m594/594\u001b[0m \u001b[32m━━━━━━━━━━━━━━━━━━━━\u001b[0m\u001b[37m\u001b[0m \u001b[1m2001s\u001b[0m 3s/step - accuracy: 0.5949 - loss: 1.3261 - val_accuracy: 0.7927 - val_loss: 0.7143\n",
      "Epoch 4/4\n",
      "\u001b[1m594/594\u001b[0m \u001b[32m━━━━━━━━━━━━━━━━━━━━\u001b[0m\u001b[37m\u001b[0m \u001b[1m1887s\u001b[0m 3s/step - accuracy: 0.6348 - loss: 1.1532 - val_accuracy: 0.8142 - val_loss: 0.6020\n"
     ]
    }
   ],
   "source": [
    "# Train the model\n",
    "history = model.fit(\n",
    "    train_ds,\n",
    "    validation_data=val_ds,\n",
    "    epochs=4,\n",
    "    callbacks=[early_stop]\n",
    ")"
   ]
  },
  {
   "cell_type": "code",
   "execution_count": 22,
   "id": "d605a7fd-5bb2-4342-96d0-c1db73b37bfc",
   "metadata": {},
   "outputs": [
    {
     "name": "stdout",
     "output_type": "stream",
     "text": [
      "\u001b[1m128/128\u001b[0m \u001b[32m━━━━━━━━━━━━━━━━━━━━\u001b[0m\u001b[37m\u001b[0m \u001b[1m90s\u001b[0m 697ms/step - accuracy: 0.8184 - loss: 0.6165\n",
      "\n",
      "✅ Test Accuracy: 0.8168\n"
     ]
    }
   ],
   "source": [
    "# Evaluate on test set\n",
    "test_loss, test_acc = model.evaluate(test_ds)\n",
    "print(f\"\\n✅ Test Accuracy: {test_acc:.4f}\")"
   ]
  },
  {
   "cell_type": "code",
   "execution_count": 23,
   "id": "be484164-0941-4c9c-82cf-33e251874efb",
   "metadata": {},
   "outputs": [
    {
     "data": {
      "image/png": "[encoded data removed]",
      "text/plain": [
       "<Figure size 640x480 with 1 Axes>"
      ]
     },
     "metadata": {},
     "output_type": "display_data"
    },
    {
     "data": {
      "image/png": "[encoded data removed]",
      "text/plain": [
       "<Figure size 640x480 with 1 Axes>"
      ]
     },
     "metadata": {},
     "output_type": "display_data"
    }
   ],
   "source": [
    "# Plot accuracy\n",
    "plt.plot(history.history['accuracy'], label='Train Acc')\n",
    "plt.plot(history.history['val_accuracy'], label='Val Acc')\n",
    "plt.title('Model Accuracy')\n",
    "plt.xlabel('Epoch')\n",
    "plt.ylabel('Accuracy')\n",
    "plt.legend()\n",
    "plt.show()\n",
    "\n",
    "# Plot loss\n",
    "plt.plot(history.history['loss'], label='Train Loss')\n",
    "plt.plot(history.history['val_loss'], label='Val Loss')\n",
    "plt.title('Model Loss')\n",
    "plt.xlabel('Epoch')\n",
    "plt.ylabel('Loss')\n",
    "plt.legend()\n",
    "plt.show()"
   ]
  },
  {
   "cell_type": "code",
   "execution_count": null,
   "id": "81e276f0-7afc-40ae-9f3f-c20e405ab30d",
   "metadata": {},
   "outputs": [],
   "source": []
  },
  {
   "cell_type": "code",
   "execution_count": null,
   "id": "213bbd44-7777-4339-8907-307b50de2245",
   "metadata": {},
   "outputs": [],
   "source": []
  }
 ],
 "metadata": {
  "kernelspec": {
   "display_name": "Python (tf-env)",
   "language": "python",
   "name": "tf-env"
  },
  "language_info": {
   "codemirror_mode": {
    "name": "ipython",
    "version": 3
   },
   "file_extension": ".py",
   "mimetype": "text/x-python",
   "name": "python",
   "nbconvert_exporter": "python",
   "pygments_lexer": "ipython3",
   "version": "3.10.18"
  }
 },
 "nbformat": 4,
 "nbformat_minor": 5
}
