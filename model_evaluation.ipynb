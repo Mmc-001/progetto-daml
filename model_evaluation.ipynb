{
 "cells": [
  {
   "cell_type": "code",
   "execution_count": 1,
   "id": "47d454c1",
   "metadata": {},
   "outputs": [
    {
     "name": "stdout",
     "output_type": "stream",
     "text": [
      "Requirement already satisfied: seaborn in c:\\users\\utente\\appdata\\local\\programs\\python\\python311\\lib\\site-packages (0.13.2)\n",
      "Requirement already satisfied: numpy!=1.24.0,>=1.20 in c:\\users\\utente\\appdata\\local\\programs\\python\\python311\\lib\\site-packages (from seaborn) (2.1.3)\n",
      "Requirement already satisfied: pandas>=1.2 in c:\\users\\utente\\appdata\\local\\programs\\python\\python311\\lib\\site-packages (from seaborn) (2.3.1)\n",
      "Requirement already satisfied: matplotlib!=3.6.1,>=3.4 in c:\\users\\utente\\appdata\\local\\programs\\python\\python311\\lib\\site-packages (from seaborn) (3.10.3)\n",
      "Requirement already satisfied: contourpy>=1.0.1 in c:\\users\\utente\\appdata\\local\\programs\\python\\python311\\lib\\site-packages (from matplotlib!=3.6.1,>=3.4->seaborn) (1.3.2)\n",
      "Requirement already satisfied: cycler>=0.10 in c:\\users\\utente\\appdata\\local\\programs\\python\\python311\\lib\\site-packages (from matplotlib!=3.6.1,>=3.4->seaborn) (0.12.1)\n",
      "Requirement already satisfied: fonttools>=4.22.0 in c:\\users\\utente\\appdata\\local\\programs\\python\\python311\\lib\\site-packages (from matplotlib!=3.6.1,>=3.4->seaborn) (4.58.5)\n",
      "Requirement already satisfied: kiwisolver>=1.3.1 in c:\\users\\utente\\appdata\\local\\programs\\python\\python311\\lib\\site-packages (from matplotlib!=3.6.1,>=3.4->seaborn) (1.4.8)\n",
      "Requirement already satisfied: packaging>=20.0 in c:\\users\\utente\\appdata\\roaming\\python\\python311\\site-packages (from matplotlib!=3.6.1,>=3.4->seaborn) (25.0)\n",
      "Requirement already satisfied: pillow>=8 in c:\\users\\utente\\appdata\\local\\programs\\python\\python311\\lib\\site-packages (from matplotlib!=3.6.1,>=3.4->seaborn) (11.3.0)\n",
      "Requirement already satisfied: pyparsing>=2.3.1 in c:\\users\\utente\\appdata\\local\\programs\\python\\python311\\lib\\site-packages (from matplotlib!=3.6.1,>=3.4->seaborn) (3.2.3)\n",
      "Requirement already satisfied: python-dateutil>=2.7 in c:\\users\\utente\\appdata\\roaming\\python\\python311\\site-packages (from matplotlib!=3.6.1,>=3.4->seaborn) (2.9.0.post0)\n",
      "Requirement already satisfied: pytz>=2020.1 in c:\\users\\utente\\appdata\\local\\programs\\python\\python311\\lib\\site-packages (from pandas>=1.2->seaborn) (2025.2)\n",
      "Requirement already satisfied: tzdata>=2022.7 in c:\\users\\utente\\appdata\\local\\programs\\python\\python311\\lib\\site-packages (from pandas>=1.2->seaborn) (2025.2)\n",
      "Requirement already satisfied: six>=1.5 in c:\\users\\utente\\appdata\\roaming\\python\\python311\\site-packages (from python-dateutil>=2.7->matplotlib!=3.6.1,>=3.4->seaborn) (1.17.0)\n",
      "Note: you may need to restart the kernel to use updated packages.\n"
     ]
    },
    {
     "name": "stderr",
     "output_type": "stream",
     "text": [
      "\n",
      "[notice] A new release of pip available: 22.3 -> 25.1.1\n",
      "[notice] To update, run: python.exe -m pip install --upgrade pip\n"
     ]
    }
   ],
   "source": [
    "# Import Required Libraries\n",
    "%pip install seaborn \n",
    "import numpy as np\n",
    "import matplotlib.pyplot as plt\n",
    "import seaborn as sns\n",
    "import tensorflow as tf\n",
    "from tensorflow import keras\n",
    "from sklearn.metrics import accuracy_score, precision_score, recall_score, f1_score, confusion_matrix, roc_curve, roc_auc_score, classification_report\n"
   ]
  },
  {
   "cell_type": "markdown",
   "id": "9983b827",
   "metadata": {},
   "source": [
    "# Model Evaluation on PlantVillage Dataset\n",
    "\n",
    "This notebook evaluates the trained model using the test set. It includes metrics, confusion matrix, ROC curves, and a classification report."
   ]
  },
  {
   "cell_type": "code",
   "execution_count": 2,
   "id": "bbfcbc46",
   "metadata": {},
   "outputs": [],
   "source": [
    "IMG_SIZE = (128, 128)\n",
    "BATCH_SIZE = 16\n",
    "FAM_SPLIT = True  # if True, split the dataset by family, else by class"
   ]
  },
  {
   "cell_type": "code",
   "execution_count": 8,
   "id": "df4a980f",
   "metadata": {},
   "outputs": [
    {
     "ename": "ImportError",
     "evalue": "cannot import name 'preprocess_with_ohe' from 'preprocessing' (d:\\Git\\progetto-daml\\preprocessing.py)",
     "output_type": "error",
     "traceback": [
      "\u001b[31m---------------------------------------------------------------------------\u001b[39m",
      "\u001b[31mImportError\u001b[39m                               Traceback (most recent call last)",
      "\u001b[36mCell\u001b[39m\u001b[36m \u001b[39m\u001b[32mIn[8]\u001b[39m\u001b[32m, line 2\u001b[39m\n\u001b[32m      1\u001b[39m \u001b[38;5;28;01mimport\u001b[39;00m\u001b[38;5;250m \u001b[39m\u001b[34;01mtensorflow_datasets\u001b[39;00m\u001b[38;5;250m \u001b[39m\u001b[38;5;28;01mas\u001b[39;00m\u001b[38;5;250m \u001b[39m\u001b[34;01mtfds\u001b[39;00m\n\u001b[32m----> \u001b[39m\u001b[32m2\u001b[39m \u001b[38;5;28;01mfrom\u001b[39;00m\u001b[38;5;250m \u001b[39m\u001b[34;01mpreprocessing\u001b[39;00m\u001b[38;5;250m \u001b[39m\u001b[38;5;28;01mimport\u001b[39;00m preprocess, preprocess_with_ohe\n\u001b[32m      4\u001b[39m \u001b[38;5;66;03m# Load Trained Model and Test Data\u001b[39;00m\n\u001b[32m      5\u001b[39m arch_choice = \u001b[32m1\u001b[39m  \u001b[38;5;66;03m# Choose the architecture version\u001b[39;00m\n",
      "\u001b[31mImportError\u001b[39m: cannot import name 'preprocess_with_ohe' from 'preprocessing' (d:\\Git\\progetto-daml\\preprocessing.py)"
     ]
    }
   ],
   "source": [
    "import tensorflow_datasets as tfds\n",
    "from preprocessing import preprocess, preprocess_with_ohe\n",
    "\n",
    "# Load Trained Model and Test Data\n",
    "arch_choice = 1  # Choose the architecture version\n",
    "if arch_choice not in [1, 2, 3]:\n",
    "    raise ValueError(\"Invalid architecture choice\")\n",
    "\n",
    "#model = keras.models.load_model(f'best_model_v{arch_choice}.h5')\n",
    "model = keras.models.load_model(f'best_model_wo_augmentation.h5')\n",
    "\n",
    "\n",
    "ds_info = tfds.builder('plant_village').info\n",
    "ds_test = tfds.load('plant_village', split='train[95%:]', as_supervised=True)\n",
    "\n",
    "test_ds = ds_test.map(lambda image, label: preprocess(image, label, ds_info, IMG_SIZE)).batch(BATCH_SIZE).prefetch(tf.data.AUTOTUNE)\n",
    "class_names = ds_info.features['label'].names\n"
   ]
  },
  {
   "cell_type": "code",
   "execution_count": 9,
   "id": "a3b141dc",
   "metadata": {},
   "outputs": [
    {
     "name": "stderr",
     "output_type": "stream",
     "text": [
      "WARNING:absl:Variant folder C:\\Users\\Utente\\tensorflow_datasets\\plant_village\\1.0.2 has no dataset_info.json\n"
     ]
    },
    {
     "ename": "AssertionError",
     "evalue": "Dataset plant_village: could not find data in C:\\Users\\Utente\\tensorflow_datasets. Please make sure to call dataset_builder.download_and_prepare(), or pass download=True to tfds.load() before trying to access the tf.data.Dataset object.",
     "output_type": "error",
     "traceback": [
      "\u001b[31m---------------------------------------------------------------------------\u001b[39m",
      "\u001b[31mAssertionError\u001b[39m                            Traceback (most recent call last)",
      "\u001b[36mCell\u001b[39m\u001b[36m \u001b[39m\u001b[32mIn[9]\u001b[39m\u001b[32m, line 1\u001b[39m\n\u001b[32m----> \u001b[39m\u001b[32m1\u001b[39m (ds_train, ds_val, ds_test), ds_info = \u001b[43mtfds\u001b[49m\u001b[43m.\u001b[49m\u001b[43mload\u001b[49m\u001b[43m(\u001b[49m\n\u001b[32m      2\u001b[39m \u001b[43m    \u001b[49m\u001b[33;43m'\u001b[39;49m\u001b[33;43mplant_village\u001b[39;49m\u001b[33;43m'\u001b[39;49m\u001b[43m,\u001b[49m\n\u001b[32m      3\u001b[39m \u001b[43m    \u001b[49m\u001b[43msplit\u001b[49m\u001b[43m=\u001b[49m\u001b[43m[\u001b[49m\u001b[33;43m'\u001b[39;49m\u001b[33;43mtrain[:80\u001b[39;49m\u001b[33;43m%\u001b[39;49m\u001b[33;43m]\u001b[39;49m\u001b[33;43m'\u001b[39;49m\u001b[43m,\u001b[49m\u001b[43m \u001b[49m\u001b[33;43m'\u001b[39;49m\u001b[33;43mtrain[80\u001b[39;49m\u001b[33;43m%\u001b[39;49m\u001b[33;43m:90\u001b[39;49m\u001b[33;43m%\u001b[39;49m\u001b[33;43m]\u001b[39;49m\u001b[33;43m'\u001b[39;49m\u001b[43m,\u001b[49m\u001b[43m \u001b[49m\u001b[33;43m'\u001b[39;49m\u001b[33;43mtrain[90\u001b[39;49m\u001b[33;43m%\u001b[39;49m\u001b[33;43m:]\u001b[39;49m\u001b[33;43m'\u001b[39;49m\u001b[43m]\u001b[49m\u001b[43m,\u001b[49m\n\u001b[32m      4\u001b[39m \u001b[43m    \u001b[49m\u001b[43mas_supervised\u001b[49m\u001b[43m=\u001b[49m\u001b[38;5;28;43;01mTrue\u001b[39;49;00m\u001b[43m,\u001b[49m\n\u001b[32m      5\u001b[39m \u001b[43m    \u001b[49m\u001b[43mshuffle_files\u001b[49m\u001b[43m=\u001b[49m\u001b[38;5;28;43;01mTrue\u001b[39;49;00m\u001b[43m,\u001b[49m\n\u001b[32m      6\u001b[39m \u001b[43m    \u001b[49m\u001b[43mwith_info\u001b[49m\u001b[43m=\u001b[49m\u001b[38;5;28;43;01mTrue\u001b[39;49;00m\u001b[43m,\u001b[49m\n\u001b[32m      7\u001b[39m \u001b[43m    \u001b[49m\u001b[43mdownload\u001b[49m\u001b[43m=\u001b[49m\u001b[38;5;28;43;01mFalse\u001b[39;49;00m\n\u001b[32m      8\u001b[39m \u001b[43m)\u001b[49m\n",
      "\u001b[36mFile \u001b[39m\u001b[32mc:\\Users\\Utente\\AppData\\Local\\Programs\\Python\\Python311\\Lib\\site-packages\\tensorflow_datasets\\core\\logging\\__init__.py:176\u001b[39m, in \u001b[36m_FunctionDecorator.__call__\u001b[39m\u001b[34m(self, function, instance, args, kwargs)\u001b[39m\n\u001b[32m    174\u001b[39m metadata = \u001b[38;5;28mself\u001b[39m._start_call()\n\u001b[32m    175\u001b[39m \u001b[38;5;28;01mtry\u001b[39;00m:\n\u001b[32m--> \u001b[39m\u001b[32m176\u001b[39m   \u001b[38;5;28;01mreturn\u001b[39;00m \u001b[43mfunction\u001b[49m\u001b[43m(\u001b[49m\u001b[43m*\u001b[49m\u001b[43margs\u001b[49m\u001b[43m,\u001b[49m\u001b[43m \u001b[49m\u001b[43m*\u001b[49m\u001b[43m*\u001b[49m\u001b[43mkwargs\u001b[49m\u001b[43m)\u001b[49m\n\u001b[32m    177\u001b[39m \u001b[38;5;28;01mexcept\u001b[39;00m \u001b[38;5;167;01mException\u001b[39;00m:\n\u001b[32m    178\u001b[39m   metadata.mark_error()\n",
      "\u001b[36mFile \u001b[39m\u001b[32mc:\\Users\\Utente\\AppData\\Local\\Programs\\Python\\Python311\\Lib\\site-packages\\tensorflow_datasets\\core\\load.py:681\u001b[39m, in \u001b[36mload\u001b[39m\u001b[34m(name, split, data_dir, batch_size, shuffle_files, download, as_supervised, decoders, read_config, with_info, builder_kwargs, download_and_prepare_kwargs, as_dataset_kwargs, try_gcs, file_format)\u001b[39m\n\u001b[32m    678\u001b[39m   read_config = read_config.replace(file_format=file_format)\n\u001b[32m    679\u001b[39m as_dataset_kwargs.setdefault(\u001b[33m'\u001b[39m\u001b[33mread_config\u001b[39m\u001b[33m'\u001b[39m, read_config)\n\u001b[32m--> \u001b[39m\u001b[32m681\u001b[39m ds = \u001b[43mdbuilder\u001b[49m\u001b[43m.\u001b[49m\u001b[43mas_dataset\u001b[49m\u001b[43m(\u001b[49m\u001b[43m*\u001b[49m\u001b[43m*\u001b[49m\u001b[43mas_dataset_kwargs\u001b[49m\u001b[43m)\u001b[49m\n\u001b[32m    682\u001b[39m \u001b[38;5;28;01mif\u001b[39;00m with_info:\n\u001b[32m    683\u001b[39m   \u001b[38;5;28;01mreturn\u001b[39;00m ds, dbuilder.info\n",
      "\u001b[36mFile \u001b[39m\u001b[32mc:\\Users\\Utente\\AppData\\Local\\Programs\\Python\\Python311\\Lib\\site-packages\\tensorflow_datasets\\core\\logging\\__init__.py:176\u001b[39m, in \u001b[36m_FunctionDecorator.__call__\u001b[39m\u001b[34m(self, function, instance, args, kwargs)\u001b[39m\n\u001b[32m    174\u001b[39m metadata = \u001b[38;5;28mself\u001b[39m._start_call()\n\u001b[32m    175\u001b[39m \u001b[38;5;28;01mtry\u001b[39;00m:\n\u001b[32m--> \u001b[39m\u001b[32m176\u001b[39m   \u001b[38;5;28;01mreturn\u001b[39;00m \u001b[43mfunction\u001b[49m\u001b[43m(\u001b[49m\u001b[43m*\u001b[49m\u001b[43margs\u001b[49m\u001b[43m,\u001b[49m\u001b[43m \u001b[49m\u001b[43m*\u001b[49m\u001b[43m*\u001b[49m\u001b[43mkwargs\u001b[49m\u001b[43m)\u001b[49m\n\u001b[32m    177\u001b[39m \u001b[38;5;28;01mexcept\u001b[39;00m \u001b[38;5;167;01mException\u001b[39;00m:\n\u001b[32m    178\u001b[39m   metadata.mark_error()\n",
      "\u001b[36mFile \u001b[39m\u001b[32mc:\\Users\\Utente\\AppData\\Local\\Programs\\Python\\Python311\\Lib\\site-packages\\tensorflow_datasets\\core\\dataset_builder.py:1024\u001b[39m, in \u001b[36mDatasetBuilder.as_dataset\u001b[39m\u001b[34m(self, split, batch_size, shuffle_files, decoders, read_config, as_supervised)\u001b[39m\n\u001b[32m   1022\u001b[39m \u001b[38;5;66;03m# pylint: enable=line-too-long\u001b[39;00m\n\u001b[32m   1023\u001b[39m \u001b[38;5;28;01mif\u001b[39;00m \u001b[38;5;129;01mnot\u001b[39;00m \u001b[38;5;28mself\u001b[39m.data_path.exists():\n\u001b[32m-> \u001b[39m\u001b[32m1024\u001b[39m   \u001b[38;5;28;01mraise\u001b[39;00m \u001b[38;5;167;01mAssertionError\u001b[39;00m(\n\u001b[32m   1025\u001b[39m       \u001b[33m\"\u001b[39m\u001b[33mDataset \u001b[39m\u001b[38;5;132;01m%s\u001b[39;00m\u001b[33m: could not find data in \u001b[39m\u001b[38;5;132;01m%s\u001b[39;00m\u001b[33m. Please make sure to call \u001b[39m\u001b[33m\"\u001b[39m\n\u001b[32m   1026\u001b[39m       \u001b[33m\"\u001b[39m\u001b[33mdataset_builder.download_and_prepare(), or pass download=True to \u001b[39m\u001b[33m\"\u001b[39m\n\u001b[32m   1027\u001b[39m       \u001b[33m\"\u001b[39m\u001b[33mtfds.load() before trying to access the tf.data.Dataset object.\u001b[39m\u001b[33m\"\u001b[39m\n\u001b[32m   1028\u001b[39m       % (\u001b[38;5;28mself\u001b[39m.name, \u001b[38;5;28mself\u001b[39m.data_dir_root)\n\u001b[32m   1029\u001b[39m   )\n\u001b[32m   1031\u001b[39m \u001b[38;5;66;03m# By default, return all splits\u001b[39;00m\n\u001b[32m   1032\u001b[39m \u001b[38;5;28;01mif\u001b[39;00m split \u001b[38;5;129;01mis\u001b[39;00m \u001b[38;5;28;01mNone\u001b[39;00m:\n",
      "\u001b[31mAssertionError\u001b[39m: Dataset plant_village: could not find data in C:\\Users\\Utente\\tensorflow_datasets. Please make sure to call dataset_builder.download_and_prepare(), or pass download=True to tfds.load() before trying to access the tf.data.Dataset object."
     ]
    }
   ],
   "source": [
    "(ds_train, ds_val, ds_test), ds_info = tfds.load(\n",
    "    'plant_village',\n",
    "    split=['train[:80%]', 'train[80%:90%]', 'train[90%:]'],\n",
    "    as_supervised=True,\n",
    "    shuffle_files=True,\n",
    "    with_info=True,\n",
    "    download=False\n",
    ")"
   ]
  },
  {
   "cell_type": "code",
   "execution_count": null,
   "id": "971c0adf",
   "metadata": {},
   "outputs": [],
   "source": [
    "class_names = ds_info.features['label'].names\n",
    "families   = sorted({n.split('___')[0] for n in class_names})\n",
    "if FAM_SPLIT:\n",
    "    split_labels = families\n",
    "    family_map = [\n",
    "        families.index(name.split('___')[0])\n",
    "        for name in class_names\n",
    "    ]\n",
    "    family_map = tf.constant(family_map, dtype=tf.int32)\n",
    "else:\n",
    "    split_labels = class_names\n",
    "\n",
    "NUM_LAB = len(split_labels)"
   ]
  },
  {
   "cell_type": "code",
   "execution_count": null,
   "id": "09169f18",
   "metadata": {},
   "outputs": [],
   "source": [
    "def folder_to_fam_ohe(image, folder_label):\n",
    "    fam_idx = tf.gather(family_map, folder_label)\n",
    "    fam_ohe = tf.one_hot(fam_idx, NUM_LAB)\n",
    "    return image, fam_ohe"
   ]
  },
  {
   "cell_type": "code",
   "execution_count": null,
   "id": "1c483d8f",
   "metadata": {},
   "outputs": [],
   "source": [
    "if FAM_SPLIT:\n",
    "    ds_test_ohe = (\n",
    "      ds_test\n",
    "      .map(folder_to_fam_ohe)\n",
    "      .map(preprocess)\n",
    "      .batch(BATCH_SIZE)\n",
    "      .prefetch(tf.data.AUTOTUNE)\n",
    "    )\n",
    "else:\n",
    "    ds_test_ohe = (\n",
    "      ds_test\n",
    "      .map(preprocess_with_ohe)\n",
    "      .batch(BATCH_SIZE)\n",
    "      .prefetch(tf.data.AUTOTUNE)\n",
    "    )"
   ]
  },
  {
   "cell_type": "code",
   "execution_count": null,
   "id": "dc3447d1",
   "metadata": {},
   "outputs": [],
   "source": [
    "from tensorflow.keras.models import load_model\n",
    "model = load_model('best_model_wo_augmentation.h5')"
   ]
  },
  {
   "cell_type": "code",
   "execution_count": null,
   "id": "8aebc1a4",
   "metadata": {},
   "outputs": [],
   "source": [
    "# Generate Predictions on Test Set\n",
    "y_true = []\n",
    "y_pred = []\n",
    "y_score = []\n",
    "for images, labels in ds_test_ohe:\n",
    "    y_true.extend(np.argmax(labels.numpy(), axis=1))\n",
    "    preds = model.predict(images)\n",
    "    y_pred.extend(np.argmax(preds, axis=1))\n",
    "    y_score.append(preds)\n",
    "y_score = np.concatenate(y_score)\n"
   ]
  },
  {
   "cell_type": "code",
   "execution_count": null,
   "id": "cb1b801e",
   "metadata": {},
   "outputs": [],
   "source": [
    "# Calculate Evaluation Metrics (Accuracy, Precision, Recall, F1)\n",
    "accuracy = accuracy_score(y_true, y_pred)\n",
    "precision = precision_score(y_true, y_pred, average='weighted')\n",
    "recall = recall_score(y_true, y_pred, average='weighted')\n",
    "f1 = f1_score(y_true, y_pred, average='weighted')\n",
    "print(f\"Accuracy: {accuracy:.6f}\")\n",
    "print(f\"Precision: {precision:.6f}\")\n",
    "print(f\"Recall: {recall:.6f}\")\n",
    "print(f\"F1-score: {f1:.6f}\")"
   ]
  },
  {
   "cell_type": "code",
   "execution_count": null,
   "id": "e5cb5fb9",
   "metadata": {},
   "outputs": [],
   "source": [
    "# # Plot Confusion Matrix\n",
    "# Compute confusion matrix\n",
    "cm = confusion_matrix(y_true, y_pred, normalize='true')\n",
    "\n",
    "#Plot confusion matrix\n",
    "plt.figure(figsize=(14, 12))\n",
    "sns.heatmap(cm, annot=False, fmt='d', cmap='viridis', xticklabels=split_labels, yticklabels=split_labels)\n",
    "plt.xlabel('Predicted label')\n",
    "plt.ylabel('True label')\n",
    "plt.title('Confusion Matrix (Test Set)')\n",
    "plt.xticks(rotation=90)\n",
    "plt.yticks(rotation=0)\n",
    "plt.tight_layout()\n",
    "plt.show()\n"
   ]
  },
  {
   "cell_type": "code",
   "execution_count": null,
   "id": "db6cf9aa",
   "metadata": {},
   "outputs": [],
   "source": [
    "'''\n",
    "import matplotlib.pyplot as plt\n",
    "from plotting import plot_confusion_matrix\n",
    "\n",
    "plt.figure()  # Set a larger figure size for better readability\n",
    "plot_confusion_matrix(\n",
    "    np.array(y_true),\n",
    "    np.array(y_pred),\n",
    "    classes=class_names,\n",
    "    normalize=True,\n",
    "    title=\"Confusion Matrix (Test Set)\",\n",
    "    cmap=\"plasma\"\n",
    ")\n",
    "plt.tight_layout()  # Ensure labels and ticks are not cut off\n",
    "'''"
   ]
  },
  {
   "cell_type": "code",
   "execution_count": null,
   "id": "78653ade",
   "metadata": {},
   "outputs": [],
   "source": [
    "# Plot ROC Curves for Each Class\n",
    "n_classes = y_score.shape[1]\n",
    "fpr = dict()\n",
    "tpr = dict()\n",
    "roc_auc = dict()\n",
    "for i in range(n_classes):\n",
    "    fpr[i], tpr[i], _ = roc_curve(np.eye(n_classes)[y_true][:, i], y_score[:, i])\n",
    "    roc_auc[i] = roc_auc_score(np.eye(n_classes)[y_true][:, i], y_score[:, i])\n",
    "plt.figure(figsize=(12, 12))\n",
    "auc_and_idx = sorted([(roc_auc[i], i) for i in range(n_classes)], reverse=True)\n",
    "for auc, i in auc_and_idx:\n",
    "    plt.plot(fpr[i], tpr[i], label=f'{split_labels[i]} (AUC = {auc:.4f})')\n",
    "plt.plot([0, 1], [0, 1], 'r--', lw=2, label='Random Classifier (AUC = 0.5)')\n",
    "plt.xlabel('False Positive Rate')\n",
    "plt.ylabel('True Positive Rate')\n",
    "plt.title('ROC Curve - One vs Rest (Test Set)')\n",
    "plt.legend(fontsize='small', bbox_to_anchor=(1.05, 1), loc='best')\n",
    "plt.show()\n"
   ]
  },
  {
   "cell_type": "code",
   "execution_count": null,
   "id": "6951af58",
   "metadata": {},
   "outputs": [],
   "source": [
    "# from plotting import make_roc\n",
    "# fig, ax = plt.subplots(figsize=(16, 8))\n",
    "# make_roc(np.eye(len(class_names))[y_true], y_score, class_names)\n",
    "# # Move legend to a dedicated column outside the plot\n",
    "# plt.legend(loc=\"center left\", bbox_to_anchor=(1.02, 0.5), fontsize=\"x-small\", frameon=False)\n",
    "# plt.subplots_adjust(right=0.75)  # Make space for the legend\n",
    "# plt.show()\n"
   ]
  },
  {
   "cell_type": "code",
   "execution_count": null,
   "id": "d1ca07de",
   "metadata": {},
   "outputs": [],
   "source": [
    "# Display Classification Report\n",
    "report = classification_report(y_true, y_pred, target_names=split_labels)\n",
    "print(report)\n"
   ]
  }
 ],
 "metadata": {
  "kernelspec": {
   "display_name": "Python 3",
   "language": "python",
   "name": "python3"
  },
  "language_info": {
   "codemirror_mode": {
    "name": "ipython",
    "version": 3
   },
   "file_extension": ".py",
   "mimetype": "text/x-python",
   "name": "python",
   "nbconvert_exporter": "python",
   "pygments_lexer": "ipython3",
   "version": "3.11.0"
  }
 },
 "nbformat": 4,
 "nbformat_minor": 5
}
