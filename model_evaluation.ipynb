{
 "cells": [
  {
   "cell_type": "code",
   "execution_count": null,
   "id": "47d454c1",
   "metadata": {},
   "outputs": [],
   "source": [
    "# Import Required Libraries\n",
    "import numpy as np\n",
    "import random\n",
    "import matplotlib.pyplot as plt\n",
    "import seaborn as sns\n",
    "import tensorflow as tf\n",
    "from tensorflow import keras\n",
    "import sys\n",
    "sys.path.append('./src')\n",
    "from sklearn.metrics import accuracy_score, precision_score, recall_score, f1_score, confusion_matrix, roc_curve, roc_auc_score, classification_report\n"
   ]
  },
  {
   "cell_type": "markdown",
   "id": "9983b827",
   "metadata": {},
   "source": [
    "# Model Evaluation on PlantVillage Dataset\n",
    "\n",
    "This notebook evaluates the trained model using the test set. It includes metrics, confusion matrix, ROC curves, and a classification report."
   ]
  },
  {
   "cell_type": "code",
   "execution_count": null,
   "id": "bbfcbc46",
   "metadata": {},
   "outputs": [],
   "source": [
    "from src.config_par import IMG_SIZE, BATCH_SIZE\n"
   ]
  },
  {
   "cell_type": "code",
   "execution_count": null,
   "id": "f78d5ba3",
   "metadata": {},
   "outputs": [],
   "source": [
    "# Seed setting for reproducibility\n",
    "random.seed(42)\n",
    "np.random.seed(42)\n",
    "tf.random.set_seed(42)\n",
    "tf.keras.utils.set_random_seed(42)\n"
   ]
  },
  {
   "cell_type": "code",
   "execution_count": null,
   "id": "df4a980f",
   "metadata": {},
   "outputs": [],
   "source": [
    "import tensorflow_datasets as tfds\n",
    "from preprocessing import preprocess\n",
    "\n",
    "# Load Trained Model and Test Data\n",
    "arch_choice = 2  # Choose the architecture version\n",
    "if arch_choice not in [0, 1, 2, 3, 4]:\n",
    "    raise ValueError(\"Invalid architecture choice\")\n",
    "\n",
    "model = keras.models.load_model(f'./weights/best_model_v{arch_choice}.h5')\n",
    "\n",
    "ds_info = tfds.builder('plant_village').info\n",
    "ds_test = tfds.load('plant_village', split='train[95%:]', as_supervised=True)\n",
    "\n",
    "test_ds = ds_test.map(lambda image, label: preprocess(image, label, ds_info, IMG_SIZE)).batch(BATCH_SIZE[arch_choice]).prefetch(tf.data.AUTOTUNE)\n",
    "class_names = ds_info.features['label'].names\n"
   ]
  },
  {
   "cell_type": "code",
   "execution_count": null,
   "id": "8aebc1a4",
   "metadata": {},
   "outputs": [],
   "source": [
    "# Generate Predictions on Test Set\n",
    "y_true = []\n",
    "y_pred = []\n",
    "y_score = []\n",
    "for images, labels in test_ds:\n",
    "    y_true.extend(np.argmax(labels.numpy(), axis=1))\n",
    "    preds = model.predict(images)\n",
    "    y_pred.extend(np.argmax(preds, axis=1))\n",
    "    y_score.append(preds)\n",
    "y_score = np.concatenate(y_score)\n"
   ]
  },
  {
   "cell_type": "code",
   "execution_count": null,
   "id": "cb1b801e",
   "metadata": {},
   "outputs": [],
   "source": [
    "# Calculate Evaluation Metrics (Accuracy, Precision, Recall, F1)\n",
    "accuracy = accuracy_score(y_true, y_pred)\n",
    "precision = precision_score(y_true, y_pred, average='weighted')\n",
    "recall = recall_score(y_true, y_pred, average='weighted')\n",
    "f1 = f1_score(y_true, y_pred, average='weighted')\n",
    "print(f\"Accuracy: {accuracy:.6f}\")\n",
    "print(f\"Precision: {precision:.6f}\")\n",
    "print(f\"Recall: {recall:.6f}\")\n",
    "print(f\"F1-score: {f1:.6f}\")\n"
   ]
  },
  {
   "cell_type": "code",
   "execution_count": null,
   "id": "db6cf9aa",
   "metadata": {},
   "outputs": [],
   "source": [
    "import matplotlib.pyplot as plt\n",
    "from plotting import plot_confusion_matrix\n",
    "\n",
    "plt.figure()  # Set a larger figure size for better readability\n",
    "plot_confusion_matrix(\n",
    "    np.array(y_true),\n",
    "    np.array(y_pred),\n",
    "    classes=class_names,\n",
    "    normalize=True,\n",
    "    title=\"Confusion Matrix (Test Set)\",\n",
    "    cmap=\"plasma\"\n",
    ")\n",
    "plt.tight_layout()  # Ensure labels and ticks are not cut off\n",
    "plt.savefig(f'./conf-matrix/confusion_matrix_v{arch_choice}.png', dpi=400, bbox_inches='tight')\n",
    "plt.show()\n"
   ]
  },
  {
   "cell_type": "code",
   "execution_count": null,
   "id": "78653ade",
   "metadata": {},
   "outputs": [],
   "source": [
    "# Plot ROC Curves for Each Class\n",
    "n_classes = y_score.shape[1]\n",
    "fpr = dict()\n",
    "tpr = dict()\n",
    "roc_auc = dict()\n",
    "for i in range(n_classes):\n",
    "    fpr[i], tpr[i], _ = roc_curve(np.eye(n_classes)[y_true][:, i], y_score[:, i])\n",
    "    roc_auc[i] = roc_auc_score(np.eye(n_classes)[y_true][:, i], y_score[:, i])\n",
    "plt.figure(figsize=(12, 12))\n",
    "auc_and_idx = sorted([(roc_auc[i], i) for i in range(n_classes)], reverse=True)\n",
    "for auc, i in auc_and_idx:\n",
    "    plt.plot(fpr[i], tpr[i], label=f'{class_names[i]} (AUC = {auc:.4f})')\n",
    "plt.plot([0, 1], [0, 1], 'r--', lw=2, label='Random Classifier (AUC = 0.5)')\n",
    "plt.xlabel('False Positive Rate')\n",
    "plt.ylabel('True Positive Rate')\n",
    "plt.title('ROC Curve - One vs Rest (Test Set)')\n",
    "plt.legend(fontsize='small', bbox_to_anchor=(1.05, 1), loc='best')\n",
    "plt.savefig(f'./roc-curves/roc_curve_v{arch_choice}.png', dpi=400, bbox_inches='tight')\n",
    "plt.show()\n"
   ]
  },
  {
   "cell_type": "code",
   "execution_count": null,
   "id": "d1ca07de",
   "metadata": {},
   "outputs": [],
   "source": [
    "# Display Classification Report\n",
    "report = classification_report(y_true, y_pred, target_names=class_names)\n",
    "print(report)\n",
    "\n",
    "# Save the classification report to a text file\n",
    "with open(f'./reports/report_v{arch_choice}.txt', 'w') as f:\n",
    "    f.write(report)\n"
   ]
  },
  {
   "cell_type": "code",
   "execution_count": null,
   "id": "70ad0817",
   "metadata": {},
   "outputs": [],
   "source": []
  }
 ],
 "metadata": {
  "kernelspec": {
   "display_name": "daml",
   "language": "python",
   "name": "python3"
  },
  "language_info": {
   "codemirror_mode": {
    "name": "ipython",
    "version": 3
   },
   "file_extension": ".py",
   "mimetype": "text/x-python",
   "name": "python",
   "nbconvert_exporter": "python",
   "pygments_lexer": "ipython3",
   "version": "3.10.17"
  }
 },
 "nbformat": 4,
 "nbformat_minor": 5
}
