{
 "cells": [
  {
   "cell_type": "code",
   "execution_count": null,
   "id": "47d454c1",
   "metadata": {},
   "outputs": [],
   "source": [
    "# Import Required Libraries\n",
    "import numpy as np\n",
    "import matplotlib.pyplot as plt\n",
    "import seaborn as sns\n",
    "import tensorflow as tf\n",
    "from tensorflow import keras\n",
    "from sklearn.metrics import accuracy_score, precision_score, recall_score, f1_score, confusion_matrix, roc_curve, roc_auc_score, classification_report\n"
   ]
  },
  {
   "cell_type": "markdown",
   "id": "9983b827",
   "metadata": {},
   "source": [
    "# Model Evaluation on PlantVillage Dataset\n",
    "\n",
    "This notebook evaluates the trained model using the test set. It includes metrics, confusion matrix, ROC curves, and a classification report."
   ]
  },
  {
   "cell_type": "code",
   "execution_count": null,
   "id": "bbfcbc46",
   "metadata": {},
   "outputs": [],
   "source": [
    "IMG_SIZE = (128, 128)\n",
    "BATCH_SIZE = 32\n"
   ]
  },
  {
   "cell_type": "code",
   "execution_count": null,
   "id": "df4a980f",
   "metadata": {},
   "outputs": [],
   "source": [
    "import tensorflow_datasets as tfds\n",
    "from preprocessing import preprocess\n",
    "\n",
    "# Load Trained Model and Test Data\n",
    "arch_choice = 1  # Choose the architecture version\n",
    "if arch_choice not in [1, 2, 3]:\n",
    "    raise ValueError(\"Invalid architecture choice\")\n",
    "\n",
    "model = keras.models.load_model(f'best_model_v{arch_choice}.h5')\n",
    "\n",
    "ds_info = tfds.builder('plant_village').info\n",
    "ds_test = tfds.load('plant_village', split='train[95%:]', as_supervised=True)\n",
    "\n",
    "test_ds = ds_test.map(lambda image, label: preprocess(image, label, ds_info, IMG_SIZE)).batch(BATCH_SIZE).prefetch(tf.data.AUTOTUNE)\n",
    "class_names = ds_info.features['label'].names\n"
   ]
  },
  {
   "cell_type": "code",
   "execution_count": null,
   "id": "a3b141dc",
   "metadata": {},
   "outputs": [],
   "source": [
    "(ds_train, ds_val, ds_test), ds_info = tfds.load(\n",
    "    'plant_village',\n",
    "    split=['train[:80%]', 'train[80%:90%]', 'train[90%:]'],\n",
    "    as_supervised=True,\n",
    "    shuffle_files=True,\n",
    "    with_info=True,\n",
    "    download=False\n",
    ")"
   ]
  },
  {
   "cell_type": "code",
   "execution_count": null,
   "id": "971c0adf",
   "metadata": {},
   "outputs": [],
   "source": [
    "class_names = ds_info.features['label'].names\n",
    "families   = sorted({n.split('___')[0] for n in class_names})\n",
    "NUM_FAM    = len(families)\n",
    "family_map = tf.constant(\n",
    "    [families.index(n.split('___')[0]) for n in class_names],\n",
    "    dtype=tf.int32\n",
    ")"
   ]
  },
  {
   "cell_type": "code",
   "execution_count": null,
   "id": "09169f18",
   "metadata": {},
   "outputs": [],
   "source": [
    "def folder_to_fam_ohe(image, folder_label):\n",
    "    fam_idx = tf.gather(family_map, folder_label)\n",
    "    fam_ohe = tf.one_hot(fam_idx, NUM_FAM)\n",
    "    return image, fam_ohe"
   ]
  },
  {
   "cell_type": "code",
   "execution_count": null,
   "id": "1c483d8f",
   "metadata": {},
   "outputs": [],
   "source": [
    "ds_test_fam = (\n",
    "    ds_test\n",
    "      .map(folder_to_fam_ohe)\n",
    "      .map(preprocess)\n",
    "      .batch(BATCH_SIZE)\n",
    "      .prefetch(tf.data.AUTOTUNE)\n",
    ")"
   ]
  },
  {
   "cell_type": "code",
   "execution_count": null,
   "id": "dc3447d1",
   "metadata": {},
   "outputs": [],
   "source": [
    "from tensorflow.keras.models import load_model\n",
    "model = load_model('best_model_wo_augmentation.h5')"
   ]
  },
  {
   "cell_type": "code",
   "execution_count": null,
   "id": "8aebc1a4",
   "metadata": {},
   "outputs": [],
   "source": [
    "# Generate Predictions on Test Set\n",
    "y_true = []\n",
    "y_pred = []\n",
    "y_score = []\n",
    "for images, labels in ds_test_fam:\n",
    "    y_true.extend(np.argmax(labels.numpy(), axis=1))\n",
    "    preds = model.predict(images)\n",
    "    y_pred.extend(np.argmax(preds, axis=1))\n",
    "    y_score.append(preds)\n",
    "y_score = np.concatenate(y_score)\n"
   ]
  },
  {
   "cell_type": "code",
   "execution_count": null,
   "id": "cb1b801e",
   "metadata": {},
   "outputs": [],
   "source": [
    "# Calculate Evaluation Metrics (Accuracy, Precision, Recall, F1)\n",
    "accuracy = accuracy_score(y_true, y_pred)\n",
    "precision = precision_score(y_true, y_pred, average='weighted')\n",
    "recall = recall_score(y_true, y_pred, average='weighted')\n",
    "f1 = f1_score(y_true, y_pred, average='weighted')\n",
    "print(f\"Accuracy: {accuracy:.6f}\")\n",
    "print(f\"Precision: {precision:.6f}\")\n",
    "print(f\"Recall: {recall:.6f}\")\n",
    "print(f\"F1-score: {f1:.6f}\")"
   ]
  },
  {
   "cell_type": "code",
   "execution_count": null,
   "id": "e5cb5fb9",
   "metadata": {},
   "outputs": [],
   "source": [
    "# # Plot Confusion Matrix\n",
    "# Compute confusion matrix\n",
    "cm = confusion_matrix(y_true, y_pred, normalize='true')\n",
    "\n",
    "#Plot confusion matrix\n",
    "plt.figure(figsize=(14, 12))\n",
    "sns.heatmap(cm, annot=False, fmt='d', cmap='viridis', xticklabels=families, yticklabels=families)\n",
    "plt.xlabel('Predicted label')\n",
    "plt.ylabel('True label')\n",
    "plt.title('Confusion Matrix (Test Set)')\n",
    "plt.xticks(rotation=90)\n",
    "plt.yticks(rotation=0)\n",
    "plt.tight_layout()\n",
    "plt.show()\n"
   ]
  },
  {
   "cell_type": "code",
   "execution_count": null,
   "id": "db6cf9aa",
   "metadata": {},
   "outputs": [],
   "source": [
    "'''\n",
    "import matplotlib.pyplot as plt\n",
    "from plotting import plot_confusion_matrix\n",
    "\n",
    "plt.figure()  # Set a larger figure size for better readability\n",
    "plot_confusion_matrix(\n",
    "    np.array(y_true),\n",
    "    np.array(y_pred),\n",
    "    classes=class_names,\n",
    "    normalize=True,\n",
    "    title=\"Confusion Matrix (Test Set)\",\n",
    "    cmap=\"plasma\"\n",
    ")\n",
    "plt.tight_layout()  # Ensure labels and ticks are not cut off\n",
    "'''"
   ]
  },
  {
   "cell_type": "code",
   "execution_count": null,
   "id": "78653ade",
   "metadata": {},
   "outputs": [],
   "source": [
    "# Plot ROC Curves for Each Class\n",
    "n_classes = y_score.shape[1]\n",
    "fpr = dict()\n",
    "tpr = dict()\n",
    "roc_auc = dict()\n",
    "for i in range(n_classes):\n",
    "    fpr[i], tpr[i], _ = roc_curve(np.eye(n_classes)[y_true][:, i], y_score[:, i])\n",
    "    roc_auc[i] = roc_auc_score(np.eye(n_classes)[y_true][:, i], y_score[:, i])\n",
    "plt.figure(figsize=(12, 12))\n",
    "auc_and_idx = sorted([(roc_auc[i], i) for i in range(n_classes)], reverse=True)\n",
    "for auc, i in auc_and_idx:\n",
    "    plt.plot(fpr[i], tpr[i], label=f'{families[i]} (AUC = {auc:.4f})')\n",
    "plt.plot([0, 1], [0, 1], 'r--', lw=2, label='Random Classifier (AUC = 0.5)')\n",
    "plt.xlabel('False Positive Rate')\n",
    "plt.ylabel('True Positive Rate')\n",
    "plt.title('ROC Curve - One vs Rest (Test Set)')\n",
    "plt.legend(fontsize='small', bbox_to_anchor=(1.05, 1), loc='best')\n",
    "plt.show()\n"
   ]
  },
  {
   "cell_type": "code",
   "execution_count": null,
   "id": "6951af58",
   "metadata": {},
   "outputs": [],
   "source": [
    "# from plotting import make_roc\n",
    "# fig, ax = plt.subplots(figsize=(16, 8))\n",
    "# make_roc(np.eye(len(class_names))[y_true], y_score, class_names)\n",
    "# # Move legend to a dedicated column outside the plot\n",
    "# plt.legend(loc=\"center left\", bbox_to_anchor=(1.02, 0.5), fontsize=\"x-small\", frameon=False)\n",
    "# plt.subplots_adjust(right=0.75)  # Make space for the legend\n",
    "# plt.show()\n"
   ]
  },
  {
   "cell_type": "code",
   "execution_count": null,
   "id": "d1ca07de",
   "metadata": {},
   "outputs": [],
   "source": [
    "# Display Classification Report\n",
    "report = classification_report(y_true, y_pred, target_names=families)\n",
    "print(report)\n"
   ]
  }
 ],
 "metadata": {
  "kernelspec": {
   "display_name": "Python 3",
   "language": "python",
   "name": "python3"
  },
  "language_info": {
   "codemirror_mode": {
    "name": "ipython",
    "version": 3
   },
   "file_extension": ".py",
   "mimetype": "text/x-python",
   "name": "python",
   "nbconvert_exporter": "python",
   "pygments_lexer": "ipython3",
   "version": "3.11.0"
  }
 },
 "nbformat": 4,
 "nbformat_minor": 5
}
